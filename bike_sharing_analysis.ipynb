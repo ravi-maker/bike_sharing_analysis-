{
 "cells": [
  {
   "cell_type": "markdown",
   "id": "45bc5193-d151-406a-9f65-2bca87304652",
   "metadata": {},
   "source": [
    "## Multiple linear regression model for the prediction of demand for shared bikes\n",
    "### Case Study\n",
    "Problem Statement:\n",
    "\n",
    "A bike-sharing system is a service in which bikes are made available for shared use to individuals on a short term basis for a price or free. Many bike share systems allow people to borrow a bike from a \"dock\" which is usually computer-controlled wherein the user enters the payment information, and the system unlocks it. This bike can then be returned to another dock belonging to the same system.\n",
    "A US bike-sharing provider BoomBikes has recently suffered considerable dips in their revenues due to the ongoing Corona pandemic. The company is finding it very difficult to sustain in the current market scenario. So, it has decided to come up with a mindful business plan to be able to accelerate its revenue as soon as the ongoing lockdown comes to an end, and the economy restores to a healthy state. \n",
    "In such an attempt, BoomBikes aspires to understand the demand for shared bikes among the people after this ongoing quarantine situation ends across the nation due to Covid-19. They have planned this to prepare themselves to cater to the people's needs once the situation gets better all around and stand out from other service providers and make huge profits.\n",
    "\n",
    "Essentially, the company wants —\n",
    "\n",
    "    \n",
    "\n",
    "\n",
    "To understand the factors on which the demand for these shared bikes depends. Specifically, they want to understand the factors affecting the demand for these shared bikes in the American market. The company wants to know:\n",
    "\n",
    "    -> Which variables are significant in predicting the demand for shared bikes.\n",
    "    -> How well those variables describe the bike demands\n",
    "\n",
    "So interpretation is important!"
   ]
  },
  {
   "cell_type": "code",
   "execution_count": 441,
   "id": "197e94c4-1070-4b12-89b6-2dc9ede49391",
   "metadata": {},
   "outputs": [],
   "source": [
    "#import libraries \n",
    "import numpy as np\n",
    "import pandas as pd\n",
    "import matplotlib.pyplot as plt\n",
    "import seaborn as sns\n",
    "import sklearn\n",
    "from sklearn.model_selection import train_test_split\n",
    "\n",
    "# Supress Warnings\n",
    "import warnings\n",
    "warnings.filterwarnings('ignore')"
   ]
  },
  {
   "cell_type": "markdown",
   "id": "638e676a-e795-4d59-bf6d-ae7574189c89",
   "metadata": {
    "tags": []
   },
   "source": [
    "## Reading and Understanding the Data"
   ]
  },
  {
   "cell_type": "code",
   "execution_count": 442,
   "id": "8f0b5ffd-ece5-4b3b-b89d-ee8e31bdb600",
   "metadata": {},
   "outputs": [],
   "source": [
    "#read csv data file\n",
    "df = pd.read_csv(\"datast/day.csv\")"
   ]
  },
  {
   "cell_type": "code",
   "execution_count": 443,
   "id": "74e5f6c6-4764-4209-9605-ce0720bfe4c9",
   "metadata": {},
   "outputs": [
    {
     "data": {
      "text/html": [
       "<div>\n",
       "<style scoped>\n",
       "    .dataframe tbody tr th:only-of-type {\n",
       "        vertical-align: middle;\n",
       "    }\n",
       "\n",
       "    .dataframe tbody tr th {\n",
       "        vertical-align: top;\n",
       "    }\n",
       "\n",
       "    .dataframe thead th {\n",
       "        text-align: right;\n",
       "    }\n",
       "</style>\n",
       "<table border=\"1\" class=\"dataframe\">\n",
       "  <thead>\n",
       "    <tr style=\"text-align: right;\">\n",
       "      <th></th>\n",
       "      <th>instant</th>\n",
       "      <th>dteday</th>\n",
       "      <th>season</th>\n",
       "      <th>yr</th>\n",
       "      <th>mnth</th>\n",
       "      <th>holiday</th>\n",
       "      <th>weekday</th>\n",
       "      <th>workingday</th>\n",
       "      <th>weathersit</th>\n",
       "      <th>temp</th>\n",
       "      <th>atemp</th>\n",
       "      <th>hum</th>\n",
       "      <th>windspeed</th>\n",
       "      <th>casual</th>\n",
       "      <th>registered</th>\n",
       "      <th>cnt</th>\n",
       "    </tr>\n",
       "  </thead>\n",
       "  <tbody>\n",
       "    <tr>\n",
       "      <th>0</th>\n",
       "      <td>1</td>\n",
       "      <td>01-01-2018</td>\n",
       "      <td>1</td>\n",
       "      <td>0</td>\n",
       "      <td>1</td>\n",
       "      <td>0</td>\n",
       "      <td>6</td>\n",
       "      <td>0</td>\n",
       "      <td>2</td>\n",
       "      <td>14.110847</td>\n",
       "      <td>18.18125</td>\n",
       "      <td>80.5833</td>\n",
       "      <td>10.749882</td>\n",
       "      <td>331</td>\n",
       "      <td>654</td>\n",
       "      <td>985</td>\n",
       "    </tr>\n",
       "    <tr>\n",
       "      <th>1</th>\n",
       "      <td>2</td>\n",
       "      <td>02-01-2018</td>\n",
       "      <td>1</td>\n",
       "      <td>0</td>\n",
       "      <td>1</td>\n",
       "      <td>0</td>\n",
       "      <td>0</td>\n",
       "      <td>0</td>\n",
       "      <td>2</td>\n",
       "      <td>14.902598</td>\n",
       "      <td>17.68695</td>\n",
       "      <td>69.6087</td>\n",
       "      <td>16.652113</td>\n",
       "      <td>131</td>\n",
       "      <td>670</td>\n",
       "      <td>801</td>\n",
       "    </tr>\n",
       "    <tr>\n",
       "      <th>2</th>\n",
       "      <td>3</td>\n",
       "      <td>03-01-2018</td>\n",
       "      <td>1</td>\n",
       "      <td>0</td>\n",
       "      <td>1</td>\n",
       "      <td>0</td>\n",
       "      <td>1</td>\n",
       "      <td>1</td>\n",
       "      <td>1</td>\n",
       "      <td>8.050924</td>\n",
       "      <td>9.47025</td>\n",
       "      <td>43.7273</td>\n",
       "      <td>16.636703</td>\n",
       "      <td>120</td>\n",
       "      <td>1229</td>\n",
       "      <td>1349</td>\n",
       "    </tr>\n",
       "    <tr>\n",
       "      <th>3</th>\n",
       "      <td>4</td>\n",
       "      <td>04-01-2018</td>\n",
       "      <td>1</td>\n",
       "      <td>0</td>\n",
       "      <td>1</td>\n",
       "      <td>0</td>\n",
       "      <td>2</td>\n",
       "      <td>1</td>\n",
       "      <td>1</td>\n",
       "      <td>8.200000</td>\n",
       "      <td>10.60610</td>\n",
       "      <td>59.0435</td>\n",
       "      <td>10.739832</td>\n",
       "      <td>108</td>\n",
       "      <td>1454</td>\n",
       "      <td>1562</td>\n",
       "    </tr>\n",
       "    <tr>\n",
       "      <th>4</th>\n",
       "      <td>5</td>\n",
       "      <td>05-01-2018</td>\n",
       "      <td>1</td>\n",
       "      <td>0</td>\n",
       "      <td>1</td>\n",
       "      <td>0</td>\n",
       "      <td>3</td>\n",
       "      <td>1</td>\n",
       "      <td>1</td>\n",
       "      <td>9.305237</td>\n",
       "      <td>11.46350</td>\n",
       "      <td>43.6957</td>\n",
       "      <td>12.522300</td>\n",
       "      <td>82</td>\n",
       "      <td>1518</td>\n",
       "      <td>1600</td>\n",
       "    </tr>\n",
       "  </tbody>\n",
       "</table>\n",
       "</div>"
      ],
      "text/plain": [
       "   instant      dteday  season  yr  mnth  holiday  weekday  workingday  \\\n",
       "0        1  01-01-2018       1   0     1        0        6           0   \n",
       "1        2  02-01-2018       1   0     1        0        0           0   \n",
       "2        3  03-01-2018       1   0     1        0        1           1   \n",
       "3        4  04-01-2018       1   0     1        0        2           1   \n",
       "4        5  05-01-2018       1   0     1        0        3           1   \n",
       "\n",
       "   weathersit       temp     atemp      hum  windspeed  casual  registered  \\\n",
       "0           2  14.110847  18.18125  80.5833  10.749882     331         654   \n",
       "1           2  14.902598  17.68695  69.6087  16.652113     131         670   \n",
       "2           1   8.050924   9.47025  43.7273  16.636703     120        1229   \n",
       "3           1   8.200000  10.60610  59.0435  10.739832     108        1454   \n",
       "4           1   9.305237  11.46350  43.6957  12.522300      82        1518   \n",
       "\n",
       "    cnt  \n",
       "0   985  \n",
       "1   801  \n",
       "2  1349  \n",
       "3  1562  \n",
       "4  1600  "
      ]
     },
     "execution_count": 443,
     "metadata": {},
     "output_type": "execute_result"
    }
   ],
   "source": [
    "# Check the head of the dataset\n",
    "df.head()"
   ]
  },
  {
   "cell_type": "markdown",
   "id": "959faa04-bf1e-4bf5-8a8d-c25ccac980a4",
   "metadata": {
    "jp-MarkdownHeadingCollapsed": true,
    "tags": []
   },
   "source": [
    "- instant: record index\n",
    "\t- dteday : date\n",
    "\t- season : season (1:spring, 2:summer, 3:fall, 4:winter)\n",
    "\t- yr : year (0: 2018, 1:2019)\n",
    "\t- mnth : month ( 1 to 12)\n",
    "\t- holiday : weather day is a holiday or not.\n",
    "\t- weekday : day of the week\n",
    "\t- workingday : if day is neither weekend nor holiday is 1, otherwise is 0.\n",
    "\t+ weathersit : \n",
    "\t\t- 1: Clear, Few clouds, Partly cloudy, Partly cloudy\n",
    "\t\t- 2: Mist + Cloudy, Mist + Broken clouds, Mist + Few clouds, Mist\n",
    "\t\t- 3: Light Snow, Light Rain + Thunderstorm + Scattered clouds, Light Rain + Scattered clouds\n",
    "\t\t- 4: Heavy Rain + Ice Pallets + Thunderstorm + Mist, Snow + Fog\n",
    "\t- temp : temperature in Celsius\n",
    "\t- atemp: feeling temperature in Celsius\n",
    "\t- hum: humidity\n",
    "\t- windspeed: wind speed\n",
    "\t- casual: count of casual users\n",
    "\t- registered: count of registered users\n",
    "\t- cnt: count of total rental bikes including both casual and registered"
   ]
  },
  {
   "cell_type": "code",
   "execution_count": 444,
   "id": "81fdd6cf-d427-4683-ac3e-2ae333b6dafd",
   "metadata": {},
   "outputs": [
    {
     "data": {
      "text/plain": [
       "(730, 16)"
      ]
     },
     "execution_count": 444,
     "metadata": {},
     "output_type": "execute_result"
    }
   ],
   "source": [
    "#check shape\n",
    "df.shape"
   ]
  },
  {
   "cell_type": "code",
   "execution_count": 445,
   "id": "55c68f9f-f2c1-4873-9f10-061d3973e6e8",
   "metadata": {},
   "outputs": [
    {
     "data": {
      "text/plain": [
       "(730, 16)"
      ]
     },
     "execution_count": 445,
     "metadata": {},
     "output_type": "execute_result"
    }
   ],
   "source": [
    "# convert column name according to data dictionary to understan easily \n",
    "df = df.rename(columns={'dteday':'date',\n",
    "                       'weathersit':'weather',\n",
    "                       'yr':'year',\n",
    "                       'mnth':'month',\n",
    "                       'atemp':'temp_celcius',\n",
    "                       'hum':'humidity',\n",
    "                       'cnt':'count'})\n",
    "#again compare shape\n",
    "df.shape"
   ]
  },
  {
   "cell_type": "code",
   "execution_count": 446,
   "id": "07aab22a-b000-46a1-b375-5dcd7ee1d48d",
   "metadata": {},
   "outputs": [
    {
     "data": {
      "text/plain": [
       "instant         0\n",
       "date            0\n",
       "season          0\n",
       "year            0\n",
       "month           0\n",
       "holiday         0\n",
       "weekday         0\n",
       "workingday      0\n",
       "weather         0\n",
       "temp            0\n",
       "temp_celcius    0\n",
       "humidity        0\n",
       "windspeed       0\n",
       "casual          0\n",
       "registered      0\n",
       "count           0\n",
       "dtype: int64"
      ]
     },
     "execution_count": 446,
     "metadata": {},
     "output_type": "execute_result"
    }
   ],
   "source": [
    "#check null values\n",
    "df.isnull().sum()"
   ]
  },
  {
   "cell_type": "code",
   "execution_count": 447,
   "id": "411cf4f0-fd9d-478d-9489-375b1820bbc3",
   "metadata": {},
   "outputs": [
    {
     "data": {
      "text/plain": [
       "instant         730\n",
       "date            730\n",
       "season            4\n",
       "year              2\n",
       "month            12\n",
       "holiday           2\n",
       "weekday           7\n",
       "workingday        2\n",
       "weather           3\n",
       "temp            498\n",
       "temp_celcius    689\n",
       "humidity        594\n",
       "windspeed       649\n",
       "casual          605\n",
       "registered      678\n",
       "count           695\n",
       "dtype: int64"
      ]
     },
     "execution_count": 447,
     "metadata": {},
     "output_type": "execute_result"
    }
   ],
   "source": [
    "#Check Unique values to variety no. of season, day, year and month etc\n",
    "df.apply(lambda x: len(x.unique()))"
   ]
  },
  {
   "cell_type": "code",
   "execution_count": 448,
   "id": "aacc9d56-8ec7-4d72-b549-eb24da40ff30",
   "metadata": {},
   "outputs": [
    {
     "name": "stdout",
     "output_type": "stream",
     "text": [
      "<class 'pandas.core.frame.DataFrame'>\n",
      "RangeIndex: 730 entries, 0 to 729\n",
      "Data columns (total 16 columns):\n",
      " #   Column        Non-Null Count  Dtype  \n",
      "---  ------        --------------  -----  \n",
      " 0   instant       730 non-null    int64  \n",
      " 1   date          730 non-null    object \n",
      " 2   season        730 non-null    int64  \n",
      " 3   year          730 non-null    int64  \n",
      " 4   month         730 non-null    int64  \n",
      " 5   holiday       730 non-null    int64  \n",
      " 6   weekday       730 non-null    int64  \n",
      " 7   workingday    730 non-null    int64  \n",
      " 8   weather       730 non-null    int64  \n",
      " 9   temp          730 non-null    float64\n",
      " 10  temp_celcius  730 non-null    float64\n",
      " 11  humidity      730 non-null    float64\n",
      " 12  windspeed     730 non-null    float64\n",
      " 13  casual        730 non-null    int64  \n",
      " 14  registered    730 non-null    int64  \n",
      " 15  count         730 non-null    int64  \n",
      "dtypes: float64(4), int64(11), object(1)\n",
      "memory usage: 91.4+ KB\n"
     ]
    }
   ],
   "source": [
    "#take information about data type\n",
    "df.info()"
   ]
  },
  {
   "cell_type": "code",
   "execution_count": 449,
   "id": "6e5d43cc-5722-4491-b61b-eacf184f1a73",
   "metadata": {},
   "outputs": [
    {
     "data": {
      "text/html": [
       "<div>\n",
       "<style scoped>\n",
       "    .dataframe tbody tr th:only-of-type {\n",
       "        vertical-align: middle;\n",
       "    }\n",
       "\n",
       "    .dataframe tbody tr th {\n",
       "        vertical-align: top;\n",
       "    }\n",
       "\n",
       "    .dataframe thead th {\n",
       "        text-align: right;\n",
       "    }\n",
       "</style>\n",
       "<table border=\"1\" class=\"dataframe\">\n",
       "  <thead>\n",
       "    <tr style=\"text-align: right;\">\n",
       "      <th></th>\n",
       "      <th>instant</th>\n",
       "      <th>season</th>\n",
       "      <th>year</th>\n",
       "      <th>month</th>\n",
       "      <th>holiday</th>\n",
       "      <th>weekday</th>\n",
       "      <th>workingday</th>\n",
       "      <th>weather</th>\n",
       "      <th>temp</th>\n",
       "      <th>temp_celcius</th>\n",
       "      <th>humidity</th>\n",
       "      <th>windspeed</th>\n",
       "      <th>casual</th>\n",
       "      <th>registered</th>\n",
       "      <th>count</th>\n",
       "    </tr>\n",
       "  </thead>\n",
       "  <tbody>\n",
       "    <tr>\n",
       "      <th>count</th>\n",
       "      <td>730.000000</td>\n",
       "      <td>730.000000</td>\n",
       "      <td>730.000000</td>\n",
       "      <td>730.000000</td>\n",
       "      <td>730.000000</td>\n",
       "      <td>730.000000</td>\n",
       "      <td>730.000000</td>\n",
       "      <td>730.000000</td>\n",
       "      <td>730.000000</td>\n",
       "      <td>730.000000</td>\n",
       "      <td>730.000000</td>\n",
       "      <td>730.000000</td>\n",
       "      <td>730.000000</td>\n",
       "      <td>730.000000</td>\n",
       "      <td>730.000000</td>\n",
       "    </tr>\n",
       "    <tr>\n",
       "      <th>mean</th>\n",
       "      <td>365.500000</td>\n",
       "      <td>2.498630</td>\n",
       "      <td>0.500000</td>\n",
       "      <td>6.526027</td>\n",
       "      <td>0.028767</td>\n",
       "      <td>2.997260</td>\n",
       "      <td>0.683562</td>\n",
       "      <td>1.394521</td>\n",
       "      <td>20.319259</td>\n",
       "      <td>23.726322</td>\n",
       "      <td>62.765175</td>\n",
       "      <td>12.763620</td>\n",
       "      <td>849.249315</td>\n",
       "      <td>3658.757534</td>\n",
       "      <td>4508.006849</td>\n",
       "    </tr>\n",
       "    <tr>\n",
       "      <th>std</th>\n",
       "      <td>210.877136</td>\n",
       "      <td>1.110184</td>\n",
       "      <td>0.500343</td>\n",
       "      <td>3.450215</td>\n",
       "      <td>0.167266</td>\n",
       "      <td>2.006161</td>\n",
       "      <td>0.465405</td>\n",
       "      <td>0.544807</td>\n",
       "      <td>7.506729</td>\n",
       "      <td>8.150308</td>\n",
       "      <td>14.237589</td>\n",
       "      <td>5.195841</td>\n",
       "      <td>686.479875</td>\n",
       "      <td>1559.758728</td>\n",
       "      <td>1936.011647</td>\n",
       "    </tr>\n",
       "    <tr>\n",
       "      <th>min</th>\n",
       "      <td>1.000000</td>\n",
       "      <td>1.000000</td>\n",
       "      <td>0.000000</td>\n",
       "      <td>1.000000</td>\n",
       "      <td>0.000000</td>\n",
       "      <td>0.000000</td>\n",
       "      <td>0.000000</td>\n",
       "      <td>1.000000</td>\n",
       "      <td>2.424346</td>\n",
       "      <td>3.953480</td>\n",
       "      <td>0.000000</td>\n",
       "      <td>1.500244</td>\n",
       "      <td>2.000000</td>\n",
       "      <td>20.000000</td>\n",
       "      <td>22.000000</td>\n",
       "    </tr>\n",
       "    <tr>\n",
       "      <th>25%</th>\n",
       "      <td>183.250000</td>\n",
       "      <td>2.000000</td>\n",
       "      <td>0.000000</td>\n",
       "      <td>4.000000</td>\n",
       "      <td>0.000000</td>\n",
       "      <td>1.000000</td>\n",
       "      <td>0.000000</td>\n",
       "      <td>1.000000</td>\n",
       "      <td>13.811885</td>\n",
       "      <td>16.889713</td>\n",
       "      <td>52.000000</td>\n",
       "      <td>9.041650</td>\n",
       "      <td>316.250000</td>\n",
       "      <td>2502.250000</td>\n",
       "      <td>3169.750000</td>\n",
       "    </tr>\n",
       "    <tr>\n",
       "      <th>50%</th>\n",
       "      <td>365.500000</td>\n",
       "      <td>3.000000</td>\n",
       "      <td>0.500000</td>\n",
       "      <td>7.000000</td>\n",
       "      <td>0.000000</td>\n",
       "      <td>3.000000</td>\n",
       "      <td>1.000000</td>\n",
       "      <td>1.000000</td>\n",
       "      <td>20.465826</td>\n",
       "      <td>24.368225</td>\n",
       "      <td>62.625000</td>\n",
       "      <td>12.125325</td>\n",
       "      <td>717.000000</td>\n",
       "      <td>3664.500000</td>\n",
       "      <td>4548.500000</td>\n",
       "    </tr>\n",
       "    <tr>\n",
       "      <th>75%</th>\n",
       "      <td>547.750000</td>\n",
       "      <td>3.000000</td>\n",
       "      <td>1.000000</td>\n",
       "      <td>10.000000</td>\n",
       "      <td>0.000000</td>\n",
       "      <td>5.000000</td>\n",
       "      <td>1.000000</td>\n",
       "      <td>2.000000</td>\n",
       "      <td>26.880615</td>\n",
       "      <td>30.445775</td>\n",
       "      <td>72.989575</td>\n",
       "      <td>15.625589</td>\n",
       "      <td>1096.500000</td>\n",
       "      <td>4783.250000</td>\n",
       "      <td>5966.000000</td>\n",
       "    </tr>\n",
       "    <tr>\n",
       "      <th>max</th>\n",
       "      <td>730.000000</td>\n",
       "      <td>4.000000</td>\n",
       "      <td>1.000000</td>\n",
       "      <td>12.000000</td>\n",
       "      <td>1.000000</td>\n",
       "      <td>6.000000</td>\n",
       "      <td>1.000000</td>\n",
       "      <td>3.000000</td>\n",
       "      <td>35.328347</td>\n",
       "      <td>42.044800</td>\n",
       "      <td>97.250000</td>\n",
       "      <td>34.000021</td>\n",
       "      <td>3410.000000</td>\n",
       "      <td>6946.000000</td>\n",
       "      <td>8714.000000</td>\n",
       "    </tr>\n",
       "  </tbody>\n",
       "</table>\n",
       "</div>"
      ],
      "text/plain": [
       "          instant      season        year       month     holiday     weekday  \\\n",
       "count  730.000000  730.000000  730.000000  730.000000  730.000000  730.000000   \n",
       "mean   365.500000    2.498630    0.500000    6.526027    0.028767    2.997260   \n",
       "std    210.877136    1.110184    0.500343    3.450215    0.167266    2.006161   \n",
       "min      1.000000    1.000000    0.000000    1.000000    0.000000    0.000000   \n",
       "25%    183.250000    2.000000    0.000000    4.000000    0.000000    1.000000   \n",
       "50%    365.500000    3.000000    0.500000    7.000000    0.000000    3.000000   \n",
       "75%    547.750000    3.000000    1.000000   10.000000    0.000000    5.000000   \n",
       "max    730.000000    4.000000    1.000000   12.000000    1.000000    6.000000   \n",
       "\n",
       "       workingday     weather        temp  temp_celcius    humidity  \\\n",
       "count  730.000000  730.000000  730.000000    730.000000  730.000000   \n",
       "mean     0.683562    1.394521   20.319259     23.726322   62.765175   \n",
       "std      0.465405    0.544807    7.506729      8.150308   14.237589   \n",
       "min      0.000000    1.000000    2.424346      3.953480    0.000000   \n",
       "25%      0.000000    1.000000   13.811885     16.889713   52.000000   \n",
       "50%      1.000000    1.000000   20.465826     24.368225   62.625000   \n",
       "75%      1.000000    2.000000   26.880615     30.445775   72.989575   \n",
       "max      1.000000    3.000000   35.328347     42.044800   97.250000   \n",
       "\n",
       "        windspeed       casual   registered        count  \n",
       "count  730.000000   730.000000   730.000000   730.000000  \n",
       "mean    12.763620   849.249315  3658.757534  4508.006849  \n",
       "std      5.195841   686.479875  1559.758728  1936.011647  \n",
       "min      1.500244     2.000000    20.000000    22.000000  \n",
       "25%      9.041650   316.250000  2502.250000  3169.750000  \n",
       "50%     12.125325   717.000000  3664.500000  4548.500000  \n",
       "75%     15.625589  1096.500000  4783.250000  5966.000000  \n",
       "max     34.000021  3410.000000  6946.000000  8714.000000  "
      ]
     },
     "execution_count": 449,
     "metadata": {},
     "output_type": "execute_result"
    }
   ],
   "source": [
    "df.describe()"
   ]
  },
  {
   "cell_type": "markdown",
   "id": "8476fb45-9855-43ca-81d8-a40327c05e8d",
   "metadata": {
    "tags": []
   },
   "source": [
    "### Data Visualisation"
   ]
  },
  {
   "cell_type": "markdown",
   "id": "68ada624-69e3-4340-944a-343775936f2b",
   "metadata": {},
   "source": [
    "#### Visualising Numeric Variables\n",
    "\n",
    "Let's make a pairplot of all the numeric variables"
   ]
  },
  {
   "cell_type": "code",
   "execution_count": 450,
   "id": "136676c0-da50-43d5-a17b-36fbde6f46c9",
   "metadata": {},
   "outputs": [],
   "source": [
    "# as we can see instant,date are not useful\n",
    "df = df.drop(columns = ['instant' , 'date','temp','temp_celcius','humidity','windspeed'])"
   ]
  },
  {
   "cell_type": "code",
   "execution_count": 451,
   "id": "40bed02f-5c95-4d7d-860b-3fcde41b184c",
   "metadata": {},
   "outputs": [],
   "source": [
    "# int cols -> category:\n",
    "cols = ['season', 'year', 'month' , 'holiday' , 'weekday' , 'workingday' , 'weather']\n",
    "for col in cols:\n",
    "    df[col] = df[col].astype('category')"
   ]
  },
  {
   "cell_type": "code",
   "execution_count": 452,
   "id": "4dddf456-7af1-4b61-b422-e48860c9fc3b",
   "metadata": {},
   "outputs": [
    {
     "name": "stdout",
     "output_type": "stream",
     "text": [
      "<class 'pandas.core.frame.DataFrame'>\n",
      "RangeIndex: 730 entries, 0 to 729\n",
      "Data columns (total 10 columns):\n",
      " #   Column      Non-Null Count  Dtype   \n",
      "---  ------      --------------  -----   \n",
      " 0   season      730 non-null    category\n",
      " 1   year        730 non-null    category\n",
      " 2   month       730 non-null    category\n",
      " 3   holiday     730 non-null    category\n",
      " 4   weekday     730 non-null    category\n",
      " 5   workingday  730 non-null    category\n",
      " 6   weather     730 non-null    category\n",
      " 7   casual      730 non-null    int64   \n",
      " 8   registered  730 non-null    int64   \n",
      " 9   count       730 non-null    int64   \n",
      "dtypes: category(7), int64(3)\n",
      "memory usage: 23.7 KB\n"
     ]
    }
   ],
   "source": [
    "df.info()"
   ]
  },
  {
   "cell_type": "code",
   "execution_count": 453,
   "id": "0b70cbaa-baa0-4479-8c82-08ad1dbceade",
   "metadata": {},
   "outputs": [
    {
     "data": {
      "image/png": "[encoded data removed]",
      "text/plain": [
       "<Figure size 750x750 with 12 Axes>"
      ]
     },
     "metadata": {},
     "output_type": "display_data"
    }
   ],
   "source": [
    "sns.pairplot(df)\n",
    "plt.show()"
   ]
  },
  {
   "cell_type": "code",
   "execution_count": 454,
   "id": "5e899187-30ef-4827-8f2f-c41801b872c9",
   "metadata": {},
   "outputs": [
    {
     "data": {
      "image/png": "[encoded data removed]",
      "text/plain": [
       "<Figure size 2000x1200 with 6 Axes>"
      ]
     },
     "metadata": {},
     "output_type": "display_data"
    }
   ],
   "source": [
    "plt.figure(figsize=(20, 12))\n",
    "plt.subplot(2,3,1)\n",
    "sns.boxplot(x = 'season', y = 'count', data = df)\n",
    "plt.subplot(2,3,2)\n",
    "sns.boxplot(x = 'year', y = 'count', data = df)\n",
    "plt.subplot(2,3,3)\n",
    "sns.boxplot(x = 'month', y = 'count', data = df)\n",
    "plt.subplot(2,3,4)\n",
    "sns.boxplot(x = 'holiday', y = 'count', data = df)\n",
    "plt.subplot(2,3,5)\n",
    "sns.boxplot(x = 'workingday', y = 'count', data = df)\n",
    "plt.subplot(2,3,6)\n",
    "sns.boxplot(x = 'weather', y = 'count', data = df)\n",
    "plt.show()"
   ]
  },
  {
   "cell_type": "code",
   "execution_count": 455,
   "id": "97ecd222-7103-43fe-8ce8-a667a8fa5ac7",
   "metadata": {},
   "outputs": [
    {
     "data": {
      "image/png": "[encoded data removed]",
      "text/plain": [
       "<Figure size 1000x500 with 1 Axes>"
      ]
     },
     "metadata": {},
     "output_type": "display_data"
    }
   ],
   "source": [
    "#Effects of season per year on booking\n",
    "plt.figure(figsize = (10, 5))\n",
    "sns.boxplot(x = 'year', y = 'count', hue = 'season', data = df)\n",
    "plt.show()"
   ]
  },
  {
   "cell_type": "code",
   "execution_count": 456,
   "id": "1519bc18-f0ed-42de-852d-5d3e34256ec3",
   "metadata": {},
   "outputs": [
    {
     "data": {
      "image/png": "[encoded data removed]",
      "text/plain": [
       "<Figure size 1000x500 with 1 Axes>"
      ]
     },
     "metadata": {},
     "output_type": "display_data"
    }
   ],
   "source": [
    "#Effect of months on booking\n",
    "plt.figure(figsize = (10, 5))\n",
    "sns.boxplot(x = 'year', y = 'count', hue = 'month', data = df)\n",
    "plt.show()"
   ]
  },
  {
   "cell_type": "code",
   "execution_count": 457,
   "id": "6b6a03cc-cfc2-4592-b843-eec933fd593a",
   "metadata": {},
   "outputs": [
    {
     "data": {
      "text/html": [
       "<div>\n",
       "<style scoped>\n",
       "    .dataframe tbody tr th:only-of-type {\n",
       "        vertical-align: middle;\n",
       "    }\n",
       "\n",
       "    .dataframe tbody tr th {\n",
       "        vertical-align: top;\n",
       "    }\n",
       "\n",
       "    .dataframe thead th {\n",
       "        text-align: right;\n",
       "    }\n",
       "</style>\n",
       "<table border=\"1\" class=\"dataframe\">\n",
       "  <thead>\n",
       "    <tr style=\"text-align: right;\">\n",
       "      <th></th>\n",
       "      <th>season</th>\n",
       "      <th>year</th>\n",
       "      <th>month</th>\n",
       "      <th>holiday</th>\n",
       "      <th>weekday</th>\n",
       "      <th>workingday</th>\n",
       "      <th>weather</th>\n",
       "      <th>casual</th>\n",
       "      <th>registered</th>\n",
       "      <th>count</th>\n",
       "    </tr>\n",
       "  </thead>\n",
       "  <tbody>\n",
       "    <tr>\n",
       "      <th>0</th>\n",
       "      <td>1</td>\n",
       "      <td>0</td>\n",
       "      <td>1</td>\n",
       "      <td>0</td>\n",
       "      <td>6</td>\n",
       "      <td>0</td>\n",
       "      <td>2</td>\n",
       "      <td>331</td>\n",
       "      <td>654</td>\n",
       "      <td>985</td>\n",
       "    </tr>\n",
       "    <tr>\n",
       "      <th>1</th>\n",
       "      <td>1</td>\n",
       "      <td>0</td>\n",
       "      <td>1</td>\n",
       "      <td>0</td>\n",
       "      <td>0</td>\n",
       "      <td>0</td>\n",
       "      <td>2</td>\n",
       "      <td>131</td>\n",
       "      <td>670</td>\n",
       "      <td>801</td>\n",
       "    </tr>\n",
       "    <tr>\n",
       "      <th>2</th>\n",
       "      <td>1</td>\n",
       "      <td>0</td>\n",
       "      <td>1</td>\n",
       "      <td>0</td>\n",
       "      <td>1</td>\n",
       "      <td>1</td>\n",
       "      <td>1</td>\n",
       "      <td>120</td>\n",
       "      <td>1229</td>\n",
       "      <td>1349</td>\n",
       "    </tr>\n",
       "    <tr>\n",
       "      <th>3</th>\n",
       "      <td>1</td>\n",
       "      <td>0</td>\n",
       "      <td>1</td>\n",
       "      <td>0</td>\n",
       "      <td>2</td>\n",
       "      <td>1</td>\n",
       "      <td>1</td>\n",
       "      <td>108</td>\n",
       "      <td>1454</td>\n",
       "      <td>1562</td>\n",
       "    </tr>\n",
       "    <tr>\n",
       "      <th>4</th>\n",
       "      <td>1</td>\n",
       "      <td>0</td>\n",
       "      <td>1</td>\n",
       "      <td>0</td>\n",
       "      <td>3</td>\n",
       "      <td>1</td>\n",
       "      <td>1</td>\n",
       "      <td>82</td>\n",
       "      <td>1518</td>\n",
       "      <td>1600</td>\n",
       "    </tr>\n",
       "  </tbody>\n",
       "</table>\n",
       "</div>"
      ],
      "text/plain": [
       "  season year month holiday weekday workingday weather  casual  registered  \\\n",
       "0      1    0     1       0       6          0       2     331         654   \n",
       "1      1    0     1       0       0          0       2     131         670   \n",
       "2      1    0     1       0       1          1       1     120        1229   \n",
       "3      1    0     1       0       2          1       1     108        1454   \n",
       "4      1    0     1       0       3          1       1      82        1518   \n",
       "\n",
       "   count  \n",
       "0    985  \n",
       "1    801  \n",
       "2   1349  \n",
       "3   1562  \n",
       "4   1600  "
      ]
     },
     "execution_count": 457,
     "metadata": {},
     "output_type": "execute_result"
    }
   ],
   "source": [
    "# Check the head of the dataset\n",
    "df.head()"
   ]
  },
  {
   "cell_type": "code",
   "execution_count": 458,
   "id": "f5a154d6-1f6a-4565-af46-73792bf09db9",
   "metadata": {},
   "outputs": [
    {
     "data": {
      "text/html": [
       "<div>\n",
       "<style scoped>\n",
       "    .dataframe tbody tr th:only-of-type {\n",
       "        vertical-align: middle;\n",
       "    }\n",
       "\n",
       "    .dataframe tbody tr th {\n",
       "        vertical-align: top;\n",
       "    }\n",
       "\n",
       "    .dataframe thead th {\n",
       "        text-align: right;\n",
       "    }\n",
       "</style>\n",
       "<table border=\"1\" class=\"dataframe\">\n",
       "  <thead>\n",
       "    <tr style=\"text-align: right;\">\n",
       "      <th></th>\n",
       "      <th>season</th>\n",
       "      <th>year</th>\n",
       "      <th>month</th>\n",
       "      <th>holiday</th>\n",
       "      <th>weekday</th>\n",
       "      <th>workingday</th>\n",
       "      <th>weather</th>\n",
       "      <th>casual</th>\n",
       "      <th>registered</th>\n",
       "      <th>count</th>\n",
       "    </tr>\n",
       "  </thead>\n",
       "  <tbody>\n",
       "    <tr>\n",
       "      <th>0</th>\n",
       "      <td>Spring</td>\n",
       "      <td>2018</td>\n",
       "      <td>1</td>\n",
       "      <td>0</td>\n",
       "      <td>6</td>\n",
       "      <td>0</td>\n",
       "      <td>2</td>\n",
       "      <td>331</td>\n",
       "      <td>654</td>\n",
       "      <td>985</td>\n",
       "    </tr>\n",
       "    <tr>\n",
       "      <th>1</th>\n",
       "      <td>Spring</td>\n",
       "      <td>2018</td>\n",
       "      <td>1</td>\n",
       "      <td>0</td>\n",
       "      <td>0</td>\n",
       "      <td>0</td>\n",
       "      <td>2</td>\n",
       "      <td>131</td>\n",
       "      <td>670</td>\n",
       "      <td>801</td>\n",
       "    </tr>\n",
       "    <tr>\n",
       "      <th>2</th>\n",
       "      <td>Spring</td>\n",
       "      <td>2018</td>\n",
       "      <td>1</td>\n",
       "      <td>0</td>\n",
       "      <td>1</td>\n",
       "      <td>1</td>\n",
       "      <td>1</td>\n",
       "      <td>120</td>\n",
       "      <td>1229</td>\n",
       "      <td>1349</td>\n",
       "    </tr>\n",
       "    <tr>\n",
       "      <th>3</th>\n",
       "      <td>Spring</td>\n",
       "      <td>2018</td>\n",
       "      <td>1</td>\n",
       "      <td>0</td>\n",
       "      <td>2</td>\n",
       "      <td>1</td>\n",
       "      <td>1</td>\n",
       "      <td>108</td>\n",
       "      <td>1454</td>\n",
       "      <td>1562</td>\n",
       "    </tr>\n",
       "    <tr>\n",
       "      <th>4</th>\n",
       "      <td>Spring</td>\n",
       "      <td>2018</td>\n",
       "      <td>1</td>\n",
       "      <td>0</td>\n",
       "      <td>3</td>\n",
       "      <td>1</td>\n",
       "      <td>1</td>\n",
       "      <td>82</td>\n",
       "      <td>1518</td>\n",
       "      <td>1600</td>\n",
       "    </tr>\n",
       "  </tbody>\n",
       "</table>\n",
       "</div>"
      ],
      "text/plain": [
       "   season  year month holiday weekday workingday weather  casual  registered  \\\n",
       "0  Spring  2018     1       0       6          0       2     331         654   \n",
       "1  Spring  2018     1       0       0          0       2     131         670   \n",
       "2  Spring  2018     1       0       1          1       1     120        1229   \n",
       "3  Spring  2018     1       0       2          1       1     108        1454   \n",
       "4  Spring  2018     1       0       3          1       1      82        1518   \n",
       "\n",
       "   count  \n",
       "0    985  \n",
       "1    801  \n",
       "2   1349  \n",
       "3   1562  \n",
       "4   1600  "
      ]
     },
     "execution_count": 458,
     "metadata": {},
     "output_type": "execute_result"
    }
   ],
   "source": [
    "df['season'].replace({1: 'Spring', 2: 'Summer', 3: 'Fall', 4: 'Winter'}, inplace=True)\n",
    "df['year'].replace({0: '2018', 1: '2019'}, inplace=True)\n",
    "df.head()"
   ]
  },
  {
   "cell_type": "markdown",
   "id": "88577d67-c6bb-4c20-8585-0af370ed6a52",
   "metadata": {},
   "source": [
    "### Dummy Variables"
   ]
  },
  {
   "cell_type": "code",
   "execution_count": 459,
   "id": "8443cbb1-8628-4337-8a36-154ca56a5e46",
   "metadata": {},
   "outputs": [
    {
     "data": {
      "text/html": [
       "<div>\n",
       "<style scoped>\n",
       "    .dataframe tbody tr th:only-of-type {\n",
       "        vertical-align: middle;\n",
       "    }\n",
       "\n",
       "    .dataframe tbody tr th {\n",
       "        vertical-align: top;\n",
       "    }\n",
       "\n",
       "    .dataframe thead th {\n",
       "        text-align: right;\n",
       "    }\n",
       "</style>\n",
       "<table border=\"1\" class=\"dataframe\">\n",
       "  <thead>\n",
       "    <tr style=\"text-align: right;\">\n",
       "      <th></th>\n",
       "      <th>month</th>\n",
       "      <th>holiday</th>\n",
       "      <th>weekday</th>\n",
       "      <th>workingday</th>\n",
       "      <th>weather</th>\n",
       "      <th>casual</th>\n",
       "      <th>registered</th>\n",
       "      <th>count</th>\n",
       "      <th>year_2019</th>\n",
       "      <th>season_Summer</th>\n",
       "      <th>season_Fall</th>\n",
       "      <th>season_Winter</th>\n",
       "    </tr>\n",
       "  </thead>\n",
       "  <tbody>\n",
       "    <tr>\n",
       "      <th>0</th>\n",
       "      <td>1</td>\n",
       "      <td>0</td>\n",
       "      <td>6</td>\n",
       "      <td>0</td>\n",
       "      <td>2</td>\n",
       "      <td>331</td>\n",
       "      <td>654</td>\n",
       "      <td>985</td>\n",
       "      <td>0</td>\n",
       "      <td>0</td>\n",
       "      <td>0</td>\n",
       "      <td>0</td>\n",
       "    </tr>\n",
       "    <tr>\n",
       "      <th>1</th>\n",
       "      <td>1</td>\n",
       "      <td>0</td>\n",
       "      <td>0</td>\n",
       "      <td>0</td>\n",
       "      <td>2</td>\n",
       "      <td>131</td>\n",
       "      <td>670</td>\n",
       "      <td>801</td>\n",
       "      <td>0</td>\n",
       "      <td>0</td>\n",
       "      <td>0</td>\n",
       "      <td>0</td>\n",
       "    </tr>\n",
       "    <tr>\n",
       "      <th>2</th>\n",
       "      <td>1</td>\n",
       "      <td>0</td>\n",
       "      <td>1</td>\n",
       "      <td>1</td>\n",
       "      <td>1</td>\n",
       "      <td>120</td>\n",
       "      <td>1229</td>\n",
       "      <td>1349</td>\n",
       "      <td>0</td>\n",
       "      <td>0</td>\n",
       "      <td>0</td>\n",
       "      <td>0</td>\n",
       "    </tr>\n",
       "    <tr>\n",
       "      <th>3</th>\n",
       "      <td>1</td>\n",
       "      <td>0</td>\n",
       "      <td>2</td>\n",
       "      <td>1</td>\n",
       "      <td>1</td>\n",
       "      <td>108</td>\n",
       "      <td>1454</td>\n",
       "      <td>1562</td>\n",
       "      <td>0</td>\n",
       "      <td>0</td>\n",
       "      <td>0</td>\n",
       "      <td>0</td>\n",
       "    </tr>\n",
       "    <tr>\n",
       "      <th>4</th>\n",
       "      <td>1</td>\n",
       "      <td>0</td>\n",
       "      <td>3</td>\n",
       "      <td>1</td>\n",
       "      <td>1</td>\n",
       "      <td>82</td>\n",
       "      <td>1518</td>\n",
       "      <td>1600</td>\n",
       "      <td>0</td>\n",
       "      <td>0</td>\n",
       "      <td>0</td>\n",
       "      <td>0</td>\n",
       "    </tr>\n",
       "  </tbody>\n",
       "</table>\n",
       "</div>"
      ],
      "text/plain": [
       "  month holiday weekday workingday weather  casual  registered  count  \\\n",
       "0     1       0       6          0       2     331         654    985   \n",
       "1     1       0       0          0       2     131         670    801   \n",
       "2     1       0       1          1       1     120        1229   1349   \n",
       "3     1       0       2          1       1     108        1454   1562   \n",
       "4     1       0       3          1       1      82        1518   1600   \n",
       "\n",
       "   year_2019  season_Summer  season_Fall  season_Winter  \n",
       "0          0              0            0              0  \n",
       "1          0              0            0              0  \n",
       "2          0              0            0              0  \n",
       "3          0              0            0              0  \n",
       "4          0              0            0              0  "
      ]
     },
     "execution_count": 459,
     "metadata": {},
     "output_type": "execute_result"
    }
   ],
   "source": [
    "# Get the dummy variables for the feature  and store it in a new variable - 'status'\n",
    "status = pd.get_dummies(df, columns=['year', 'season'],drop_first=True)\n",
    "status.head()"
   ]
  },
  {
   "cell_type": "markdown",
   "id": "4a01c524-fd77-46be-b747-0befed9533e0",
   "metadata": {},
   "source": [
    "## Split in to train test data"
   ]
  },
  {
   "cell_type": "code",
   "execution_count": 460,
   "id": "1741d36d-5982-4e79-a9e5-bbdcd5f0fe95",
   "metadata": {},
   "outputs": [
    {
     "data": {
      "text/html": [
       "<div>\n",
       "<style scoped>\n",
       "    .dataframe tbody tr th:only-of-type {\n",
       "        vertical-align: middle;\n",
       "    }\n",
       "\n",
       "    .dataframe tbody tr th {\n",
       "        vertical-align: top;\n",
       "    }\n",
       "\n",
       "    .dataframe thead th {\n",
       "        text-align: right;\n",
       "    }\n",
       "</style>\n",
       "<table border=\"1\" class=\"dataframe\">\n",
       "  <thead>\n",
       "    <tr style=\"text-align: right;\">\n",
       "      <th></th>\n",
       "      <th>month</th>\n",
       "      <th>holiday</th>\n",
       "      <th>weekday</th>\n",
       "      <th>workingday</th>\n",
       "      <th>weather</th>\n",
       "      <th>casual</th>\n",
       "      <th>registered</th>\n",
       "      <th>count</th>\n",
       "      <th>year_2019</th>\n",
       "      <th>season_Summer</th>\n",
       "      <th>season_Fall</th>\n",
       "      <th>season_Winter</th>\n",
       "    </tr>\n",
       "  </thead>\n",
       "  <tbody>\n",
       "    <tr>\n",
       "      <th>0</th>\n",
       "      <td>1</td>\n",
       "      <td>0</td>\n",
       "      <td>6</td>\n",
       "      <td>0</td>\n",
       "      <td>2</td>\n",
       "      <td>331</td>\n",
       "      <td>654</td>\n",
       "      <td>985</td>\n",
       "      <td>0</td>\n",
       "      <td>0</td>\n",
       "      <td>0</td>\n",
       "      <td>0</td>\n",
       "    </tr>\n",
       "    <tr>\n",
       "      <th>1</th>\n",
       "      <td>1</td>\n",
       "      <td>0</td>\n",
       "      <td>0</td>\n",
       "      <td>0</td>\n",
       "      <td>2</td>\n",
       "      <td>131</td>\n",
       "      <td>670</td>\n",
       "      <td>801</td>\n",
       "      <td>0</td>\n",
       "      <td>0</td>\n",
       "      <td>0</td>\n",
       "      <td>0</td>\n",
       "    </tr>\n",
       "    <tr>\n",
       "      <th>2</th>\n",
       "      <td>1</td>\n",
       "      <td>0</td>\n",
       "      <td>1</td>\n",
       "      <td>1</td>\n",
       "      <td>1</td>\n",
       "      <td>120</td>\n",
       "      <td>1229</td>\n",
       "      <td>1349</td>\n",
       "      <td>0</td>\n",
       "      <td>0</td>\n",
       "      <td>0</td>\n",
       "      <td>0</td>\n",
       "    </tr>\n",
       "    <tr>\n",
       "      <th>3</th>\n",
       "      <td>1</td>\n",
       "      <td>0</td>\n",
       "      <td>2</td>\n",
       "      <td>1</td>\n",
       "      <td>1</td>\n",
       "      <td>108</td>\n",
       "      <td>1454</td>\n",
       "      <td>1562</td>\n",
       "      <td>0</td>\n",
       "      <td>0</td>\n",
       "      <td>0</td>\n",
       "      <td>0</td>\n",
       "    </tr>\n",
       "    <tr>\n",
       "      <th>4</th>\n",
       "      <td>1</td>\n",
       "      <td>0</td>\n",
       "      <td>3</td>\n",
       "      <td>1</td>\n",
       "      <td>1</td>\n",
       "      <td>82</td>\n",
       "      <td>1518</td>\n",
       "      <td>1600</td>\n",
       "      <td>0</td>\n",
       "      <td>0</td>\n",
       "      <td>0</td>\n",
       "      <td>0</td>\n",
       "    </tr>\n",
       "  </tbody>\n",
       "</table>\n",
       "</div>"
      ],
      "text/plain": [
       "  month holiday weekday workingday weather  casual  registered  count  \\\n",
       "0     1       0       6          0       2     331         654    985   \n",
       "1     1       0       0          0       2     131         670    801   \n",
       "2     1       0       1          1       1     120        1229   1349   \n",
       "3     1       0       2          1       1     108        1454   1562   \n",
       "4     1       0       3          1       1      82        1518   1600   \n",
       "\n",
       "   year_2019  season_Summer  season_Fall  season_Winter  \n",
       "0          0              0            0              0  \n",
       "1          0              0            0              0  \n",
       "2          0              0            0              0  \n",
       "3          0              0            0              0  \n",
       "4          0              0            0              0  "
      ]
     },
     "execution_count": 460,
     "metadata": {},
     "output_type": "execute_result"
    }
   ],
   "source": [
    "# Check what the dataset 'status' looks like\n",
    "status.head()"
   ]
  },
  {
   "cell_type": "code",
   "execution_count": 461,
   "id": "8eaa0b32-f4e0-465d-963b-907561d288ea",
   "metadata": {},
   "outputs": [
    {
     "name": "stdout",
     "output_type": "stream",
     "text": [
      "(510, 12)\n",
      "(219, 12)\n"
     ]
    }
   ],
   "source": [
    "#df_train, df_test = train_test_split(df, train_size=0.7, random_state=100)\n",
    "df_train, df_test = train_test_split(status, train_size = 0.7, test_size = 0.3, random_state = 100)\n",
    "print(df_train.shape)\n",
    "print(df_test.shape)\n"
   ]
  },
  {
   "cell_type": "markdown",
   "id": "19c2eb4c-9cab-44db-850b-f8a8db7bb01a",
   "metadata": {},
   "source": [
    "### Rescaling the features"
   ]
  },
  {
   "cell_type": "code",
   "execution_count": 462,
   "id": "4845e0fb-f4e7-4c93-9fa8-f8bbc786bc42",
   "metadata": {},
   "outputs": [
    {
     "data": {
      "text/html": [
       "<div>\n",
       "<style scoped>\n",
       "    .dataframe tbody tr th:only-of-type {\n",
       "        vertical-align: middle;\n",
       "    }\n",
       "\n",
       "    .dataframe tbody tr th {\n",
       "        vertical-align: top;\n",
       "    }\n",
       "\n",
       "    .dataframe thead th {\n",
       "        text-align: right;\n",
       "    }\n",
       "</style>\n",
       "<table border=\"1\" class=\"dataframe\">\n",
       "  <thead>\n",
       "    <tr style=\"text-align: right;\">\n",
       "      <th></th>\n",
       "      <th>month</th>\n",
       "      <th>holiday</th>\n",
       "      <th>weekday</th>\n",
       "      <th>workingday</th>\n",
       "      <th>weather</th>\n",
       "      <th>casual</th>\n",
       "      <th>registered</th>\n",
       "      <th>count</th>\n",
       "      <th>year_2019</th>\n",
       "      <th>season_Summer</th>\n",
       "      <th>season_Fall</th>\n",
       "      <th>season_Winter</th>\n",
       "    </tr>\n",
       "  </thead>\n",
       "  <tbody>\n",
       "    <tr>\n",
       "      <th>653</th>\n",
       "      <td>0.818182</td>\n",
       "      <td>0</td>\n",
       "      <td>2</td>\n",
       "      <td>1</td>\n",
       "      <td>0.0</td>\n",
       "      <td>0.280402</td>\n",
       "      <td>0.951776</td>\n",
       "      <td>0.864243</td>\n",
       "      <td>1</td>\n",
       "      <td>0</td>\n",
       "      <td>0</td>\n",
       "      <td>1</td>\n",
       "    </tr>\n",
       "    <tr>\n",
       "      <th>576</th>\n",
       "      <td>0.545455</td>\n",
       "      <td>0</td>\n",
       "      <td>2</td>\n",
       "      <td>1</td>\n",
       "      <td>0.0</td>\n",
       "      <td>0.294422</td>\n",
       "      <td>0.899220</td>\n",
       "      <td>0.827658</td>\n",
       "      <td>1</td>\n",
       "      <td>0</td>\n",
       "      <td>1</td>\n",
       "      <td>0</td>\n",
       "    </tr>\n",
       "    <tr>\n",
       "      <th>426</th>\n",
       "      <td>0.181818</td>\n",
       "      <td>0</td>\n",
       "      <td>6</td>\n",
       "      <td>0</td>\n",
       "      <td>0.5</td>\n",
       "      <td>0.290765</td>\n",
       "      <td>0.446145</td>\n",
       "      <td>0.465255</td>\n",
       "      <td>1</td>\n",
       "      <td>0</td>\n",
       "      <td>0</td>\n",
       "      <td>0</td>\n",
       "    </tr>\n",
       "    <tr>\n",
       "      <th>728</th>\n",
       "      <td>1.000000</td>\n",
       "      <td>0</td>\n",
       "      <td>0</td>\n",
       "      <td>0</td>\n",
       "      <td>0.0</td>\n",
       "      <td>0.110332</td>\n",
       "      <td>0.203869</td>\n",
       "      <td>0.204096</td>\n",
       "      <td>1</td>\n",
       "      <td>0</td>\n",
       "      <td>0</td>\n",
       "      <td>0</td>\n",
       "    </tr>\n",
       "    <tr>\n",
       "      <th>482</th>\n",
       "      <td>0.272727</td>\n",
       "      <td>0</td>\n",
       "      <td>6</td>\n",
       "      <td>0</td>\n",
       "      <td>0.5</td>\n",
       "      <td>0.340750</td>\n",
       "      <td>0.444701</td>\n",
       "      <td>0.482973</td>\n",
       "      <td>1</td>\n",
       "      <td>1</td>\n",
       "      <td>0</td>\n",
       "      <td>0</td>\n",
       "    </tr>\n",
       "  </tbody>\n",
       "</table>\n",
       "</div>"
      ],
      "text/plain": [
       "        month holiday weekday workingday  weather    casual  registered  \\\n",
       "653  0.818182       0       2          1      0.0  0.280402    0.951776   \n",
       "576  0.545455       0       2          1      0.0  0.294422    0.899220   \n",
       "426  0.181818       0       6          0      0.5  0.290765    0.446145   \n",
       "728  1.000000       0       0          0      0.0  0.110332    0.203869   \n",
       "482  0.272727       0       6          0      0.5  0.340750    0.444701   \n",
       "\n",
       "        count  year_2019  season_Summer  season_Fall  season_Winter  \n",
       "653  0.864243          1              0            0              1  \n",
       "576  0.827658          1              0            1              0  \n",
       "426  0.465255          1              0            0              0  \n",
       "728  0.204096          1              0            0              0  \n",
       "482  0.482973          1              1            0              0  "
      ]
     },
     "execution_count": 462,
     "metadata": {},
     "output_type": "execute_result"
    }
   ],
   "source": [
    "from sklearn.preprocessing import MinMaxScaler\n",
    "scaler = MinMaxScaler()\n",
    "\n",
    "# Apply scaler() to all the columns except the '0-1' and 'dummy' variables\n",
    "#num_vars = ['month', 'weekday', 'casual','registered']\n",
    "num_vars = ['weather', 'month' ,'casual','registered','count']\n",
    "df_train[num_vars] = scaler.fit_transform(df_train[num_vars])\n",
    "df_train.head()\n"
   ]
  },
  {
   "cell_type": "code",
   "execution_count": 508,
   "id": "34df4f4e-44ee-454d-aa52-425c5ad68eb5",
   "metadata": {},
   "outputs": [
    {
     "data": {
      "text/html": [
       "<div>\n",
       "<style scoped>\n",
       "    .dataframe tbody tr th:only-of-type {\n",
       "        vertical-align: middle;\n",
       "    }\n",
       "\n",
       "    .dataframe tbody tr th {\n",
       "        vertical-align: top;\n",
       "    }\n",
       "\n",
       "    .dataframe thead th {\n",
       "        text-align: right;\n",
       "    }\n",
       "</style>\n",
       "<table border=\"1\" class=\"dataframe\">\n",
       "  <thead>\n",
       "    <tr style=\"text-align: right;\">\n",
       "      <th></th>\n",
       "      <th>month</th>\n",
       "      <th>weather</th>\n",
       "      <th>casual</th>\n",
       "      <th>registered</th>\n",
       "      <th>year_2019</th>\n",
       "      <th>season_Summer</th>\n",
       "      <th>season_Fall</th>\n",
       "      <th>season_Winter</th>\n",
       "    </tr>\n",
       "  </thead>\n",
       "  <tbody>\n",
       "    <tr>\n",
       "      <th>count</th>\n",
       "      <td>510.000000</td>\n",
       "      <td>510.00000</td>\n",
       "      <td>510.000000</td>\n",
       "      <td>510.000000</td>\n",
       "      <td>510.000000</td>\n",
       "      <td>510.000000</td>\n",
       "      <td>510.000000</td>\n",
       "      <td>510.00000</td>\n",
       "    </tr>\n",
       "    <tr>\n",
       "      <th>mean</th>\n",
       "      <td>0.504456</td>\n",
       "      <td>0.20098</td>\n",
       "      <td>0.254661</td>\n",
       "      <td>0.523944</td>\n",
       "      <td>0.507843</td>\n",
       "      <td>0.245098</td>\n",
       "      <td>0.262745</td>\n",
       "      <td>0.24902</td>\n",
       "    </tr>\n",
       "    <tr>\n",
       "      <th>std</th>\n",
       "      <td>0.315338</td>\n",
       "      <td>0.27377</td>\n",
       "      <td>0.206011</td>\n",
       "      <td>0.228175</td>\n",
       "      <td>0.500429</td>\n",
       "      <td>0.430568</td>\n",
       "      <td>0.440557</td>\n",
       "      <td>0.43287</td>\n",
       "    </tr>\n",
       "    <tr>\n",
       "      <th>min</th>\n",
       "      <td>0.000000</td>\n",
       "      <td>0.00000</td>\n",
       "      <td>0.000000</td>\n",
       "      <td>0.000000</td>\n",
       "      <td>0.000000</td>\n",
       "      <td>0.000000</td>\n",
       "      <td>0.000000</td>\n",
       "      <td>0.00000</td>\n",
       "    </tr>\n",
       "    <tr>\n",
       "      <th>25%</th>\n",
       "      <td>0.181818</td>\n",
       "      <td>0.00000</td>\n",
       "      <td>0.094179</td>\n",
       "      <td>0.353487</td>\n",
       "      <td>0.000000</td>\n",
       "      <td>0.000000</td>\n",
       "      <td>0.000000</td>\n",
       "      <td>0.00000</td>\n",
       "    </tr>\n",
       "    <tr>\n",
       "      <th>50%</th>\n",
       "      <td>0.545455</td>\n",
       "      <td>0.00000</td>\n",
       "      <td>0.212740</td>\n",
       "      <td>0.525123</td>\n",
       "      <td>1.000000</td>\n",
       "      <td>0.000000</td>\n",
       "      <td>0.000000</td>\n",
       "      <td>0.00000</td>\n",
       "    </tr>\n",
       "    <tr>\n",
       "      <th>75%</th>\n",
       "      <td>0.818182</td>\n",
       "      <td>0.50000</td>\n",
       "      <td>0.327415</td>\n",
       "      <td>0.696073</td>\n",
       "      <td>1.000000</td>\n",
       "      <td>0.000000</td>\n",
       "      <td>1.000000</td>\n",
       "      <td>0.00000</td>\n",
       "    </tr>\n",
       "    <tr>\n",
       "      <th>max</th>\n",
       "      <td>1.000000</td>\n",
       "      <td>1.00000</td>\n",
       "      <td>1.000000</td>\n",
       "      <td>1.000000</td>\n",
       "      <td>1.000000</td>\n",
       "      <td>1.000000</td>\n",
       "      <td>1.000000</td>\n",
       "      <td>1.00000</td>\n",
       "    </tr>\n",
       "  </tbody>\n",
       "</table>\n",
       "</div>"
      ],
      "text/plain": [
       "            month    weather      casual  registered   year_2019  \\\n",
       "count  510.000000  510.00000  510.000000  510.000000  510.000000   \n",
       "mean     0.504456    0.20098    0.254661    0.523944    0.507843   \n",
       "std      0.315338    0.27377    0.206011    0.228175    0.500429   \n",
       "min      0.000000    0.00000    0.000000    0.000000    0.000000   \n",
       "25%      0.181818    0.00000    0.094179    0.353487    0.000000   \n",
       "50%      0.545455    0.00000    0.212740    0.525123    1.000000   \n",
       "75%      0.818182    0.50000    0.327415    0.696073    1.000000   \n",
       "max      1.000000    1.00000    1.000000    1.000000    1.000000   \n",
       "\n",
       "       season_Summer  season_Fall  season_Winter  \n",
       "count     510.000000   510.000000      510.00000  \n",
       "mean        0.245098     0.262745        0.24902  \n",
       "std         0.430568     0.440557        0.43287  \n",
       "min         0.000000     0.000000        0.00000  \n",
       "25%         0.000000     0.000000        0.00000  \n",
       "50%         0.000000     0.000000        0.00000  \n",
       "75%         0.000000     1.000000        0.00000  \n",
       "max         1.000000     1.000000        1.00000  "
      ]
     },
     "execution_count": 508,
     "metadata": {},
     "output_type": "execute_result"
    }
   ],
   "source": [
    "df_train.describe()"
   ]
  },
  {
   "cell_type": "code",
   "execution_count": 464,
   "id": "561be998-0299-40f8-aeb1-420f32e0e467",
   "metadata": {},
   "outputs": [
    {
     "data": {
      "image/png": "[encoded data removed]",
      "text/plain": [
       "<Figure size 1600x1000 with 2 Axes>"
      ]
     },
     "metadata": {},
     "output_type": "display_data"
    }
   ],
   "source": [
    "# Let's check the correlation coefficients to see which variables are highly correlated\n",
    "\n",
    "plt.figure(figsize = (16, 10))\n",
    "sns.heatmap(df_train.corr(), annot = True, cmap=\"YlGnBu\")\n",
    "plt.show()"
   ]
  },
  {
   "cell_type": "code",
   "execution_count": 506,
   "id": "8c552a61-e77a-42e1-8371-52d9828fcb5d",
   "metadata": {},
   "outputs": [
    {
     "data": {
      "text/html": [
       "<div>\n",
       "<style scoped>\n",
       "    .dataframe tbody tr th:only-of-type {\n",
       "        vertical-align: middle;\n",
       "    }\n",
       "\n",
       "    .dataframe tbody tr th {\n",
       "        vertical-align: top;\n",
       "    }\n",
       "\n",
       "    .dataframe thead th {\n",
       "        text-align: right;\n",
       "    }\n",
       "</style>\n",
       "<table border=\"1\" class=\"dataframe\">\n",
       "  <thead>\n",
       "    <tr style=\"text-align: right;\">\n",
       "      <th></th>\n",
       "      <th>month</th>\n",
       "      <th>holiday</th>\n",
       "      <th>weekday</th>\n",
       "      <th>workingday</th>\n",
       "      <th>weather</th>\n",
       "      <th>casual</th>\n",
       "      <th>registered</th>\n",
       "      <th>year_2019</th>\n",
       "      <th>season_Summer</th>\n",
       "      <th>season_Fall</th>\n",
       "      <th>season_Winter</th>\n",
       "    </tr>\n",
       "  </thead>\n",
       "  <tbody>\n",
       "    <tr>\n",
       "      <th>653</th>\n",
       "      <td>0.818182</td>\n",
       "      <td>0</td>\n",
       "      <td>2</td>\n",
       "      <td>1</td>\n",
       "      <td>0.0</td>\n",
       "      <td>0.280402</td>\n",
       "      <td>0.951776</td>\n",
       "      <td>1</td>\n",
       "      <td>0</td>\n",
       "      <td>0</td>\n",
       "      <td>1</td>\n",
       "    </tr>\n",
       "    <tr>\n",
       "      <th>576</th>\n",
       "      <td>0.545455</td>\n",
       "      <td>0</td>\n",
       "      <td>2</td>\n",
       "      <td>1</td>\n",
       "      <td>0.0</td>\n",
       "      <td>0.294422</td>\n",
       "      <td>0.899220</td>\n",
       "      <td>1</td>\n",
       "      <td>0</td>\n",
       "      <td>1</td>\n",
       "      <td>0</td>\n",
       "    </tr>\n",
       "    <tr>\n",
       "      <th>426</th>\n",
       "      <td>0.181818</td>\n",
       "      <td>0</td>\n",
       "      <td>6</td>\n",
       "      <td>0</td>\n",
       "      <td>0.5</td>\n",
       "      <td>0.290765</td>\n",
       "      <td>0.446145</td>\n",
       "      <td>1</td>\n",
       "      <td>0</td>\n",
       "      <td>0</td>\n",
       "      <td>0</td>\n",
       "    </tr>\n",
       "    <tr>\n",
       "      <th>728</th>\n",
       "      <td>1.000000</td>\n",
       "      <td>0</td>\n",
       "      <td>0</td>\n",
       "      <td>0</td>\n",
       "      <td>0.0</td>\n",
       "      <td>0.110332</td>\n",
       "      <td>0.203869</td>\n",
       "      <td>1</td>\n",
       "      <td>0</td>\n",
       "      <td>0</td>\n",
       "      <td>0</td>\n",
       "    </tr>\n",
       "    <tr>\n",
       "      <th>482</th>\n",
       "      <td>0.272727</td>\n",
       "      <td>0</td>\n",
       "      <td>6</td>\n",
       "      <td>0</td>\n",
       "      <td>0.5</td>\n",
       "      <td>0.340750</td>\n",
       "      <td>0.444701</td>\n",
       "      <td>1</td>\n",
       "      <td>1</td>\n",
       "      <td>0</td>\n",
       "      <td>0</td>\n",
       "    </tr>\n",
       "  </tbody>\n",
       "</table>\n",
       "</div>"
      ],
      "text/plain": [
       "        month holiday weekday workingday  weather    casual  registered  \\\n",
       "653  0.818182       0       2          1      0.0  0.280402    0.951776   \n",
       "576  0.545455       0       2          1      0.0  0.294422    0.899220   \n",
       "426  0.181818       0       6          0      0.5  0.290765    0.446145   \n",
       "728  1.000000       0       0          0      0.0  0.110332    0.203869   \n",
       "482  0.272727       0       6          0      0.5  0.340750    0.444701   \n",
       "\n",
       "     year_2019  season_Summer  season_Fall  season_Winter  \n",
       "653          1              0            0              1  \n",
       "576          1              0            1              0  \n",
       "426          1              0            0              0  \n",
       "728          1              0            0              0  \n",
       "482          1              1            0              0  "
      ]
     },
     "execution_count": 506,
     "metadata": {},
     "output_type": "execute_result"
    }
   ],
   "source": [
    "df_train.head()\n"
   ]
  },
  {
   "cell_type": "markdown",
   "id": "588d95df-e0c0-41ef-b283-9e554ad71184",
   "metadata": {},
   "source": [
    "## Building a linear model"
   ]
  },
  {
   "cell_type": "code",
   "execution_count": 466,
   "id": "a7dd6371-d75a-44ba-a527-ecc11e31771f",
   "metadata": {},
   "outputs": [],
   "source": [
    "# Split the DataFrame into features (X) and target variable (y)\n",
    "y_train = df_train.pop('count')\n",
    "X_train = df_train"
   ]
  },
  {
   "cell_type": "code",
   "execution_count": 467,
   "id": "3a918cbe-01cb-4467-af14-22426859fed7",
   "metadata": {},
   "outputs": [
    {
     "name": "stdout",
     "output_type": "stream",
     "text": [
      "        month holiday weekday workingday  weather    casual  registered  \\\n",
      "653  0.818182       0       2          1      0.0  0.280402    0.951776   \n",
      "576  0.545455       0       2          1      0.0  0.294422    0.899220   \n",
      "426  0.181818       0       6          0      0.5  0.290765    0.446145   \n",
      "728  1.000000       0       0          0      0.0  0.110332    0.203869   \n",
      "482  0.272727       0       6          0      0.5  0.340750    0.444701   \n",
      "..        ...     ...     ...        ...      ...       ...         ...   \n",
      "526  0.454545       0       1          1      0.5  0.309357    0.812446   \n",
      "578  0.636364       0       4          1      0.0  0.298994    0.903552   \n",
      "53   0.090909       0       3          1      0.0  0.041756    0.253826   \n",
      "350  1.000000       0       6          0      0.5  0.083206    0.352873   \n",
      "79   0.181818       0       1          1      0.5  0.121609    0.239099   \n",
      "\n",
      "     year_2019  season_Summer  season_Fall  season_Winter  \n",
      "653          1              0            0              1  \n",
      "576          1              0            1              0  \n",
      "426          1              0            0              0  \n",
      "728          1              0            0              0  \n",
      "482          1              1            0              0  \n",
      "..         ...            ...          ...            ...  \n",
      "526          1              1            0              0  \n",
      "578          1              0            1              0  \n",
      "53           0              0            0              0  \n",
      "350          0              0            0              1  \n",
      "79           0              1            0              0  \n",
      "\n",
      "[510 rows x 11 columns]\n"
     ]
    }
   ],
   "source": [
    "print(X_train)"
   ]
  },
  {
   "cell_type": "code",
   "execution_count": 468,
   "id": "fd9b8a5a-26a8-435d-bc58-abfa934a877c",
   "metadata": {},
   "outputs": [],
   "source": [
    "import statsmodels.api as sm\n",
    "\n",
    "# Add a constant\n",
    "X_train_lm = sm.add_constant(X_train[['registered']])\n",
    "\n",
    "# Create a fitted model\n",
    "lr = sm.OLS(y_train, X_train_lm).fit()"
   ]
  },
  {
   "cell_type": "code",
   "execution_count": 469,
   "id": "2eeec5e6-c6f6-4668-b2ee-121109c4a5a0",
   "metadata": {},
   "outputs": [
    {
     "data": {
      "text/plain": [
       "const         0.024532\n",
       "registered    0.933473\n",
       "dtype: float64"
      ]
     },
     "execution_count": 469,
     "metadata": {},
     "output_type": "execute_result"
    }
   ],
   "source": [
    "# Check the parameters obtained\n",
    "lr.params"
   ]
  },
  {
   "cell_type": "code",
   "execution_count": 470,
   "id": "dfd51dc8-0027-499e-8156-39464e6091ab",
   "metadata": {},
   "outputs": [
    {
     "name": "stdout",
     "output_type": "stream",
     "text": [
      "                            OLS Regression Results                            \n",
      "==============================================================================\n",
      "Dep. Variable:                  count   R-squared:                       0.899\n",
      "Model:                            OLS   Adj. R-squared:                  0.899\n",
      "Method:                 Least Squares   F-statistic:                     4541.\n",
      "Date:                Wed, 13 Sep 2023   Prob (F-statistic):          1.75e-255\n",
      "Time:                        18:23:36   Log-Likelihood:                 624.12\n",
      "No. Observations:                 510   AIC:                            -1244.\n",
      "Df Residuals:                     508   BIC:                            -1236.\n",
      "Df Model:                           1                                         \n",
      "Covariance Type:            nonrobust                                         \n",
      "==============================================================================\n",
      "                 coef    std err          t      P>|t|      [0.025      0.975]\n",
      "------------------------------------------------------------------------------\n",
      "const          0.0245      0.008      3.099      0.002       0.009       0.040\n",
      "registered     0.9335      0.014     67.388      0.000       0.906       0.961\n",
      "==============================================================================\n",
      "Omnibus:                      134.360   Durbin-Watson:                   1.883\n",
      "Prob(Omnibus):                  0.000   Jarque-Bera (JB):              255.307\n",
      "Skew:                           1.511   Prob(JB):                     3.64e-56\n",
      "Kurtosis:                       4.699   Cond. No.                         5.64\n",
      "==============================================================================\n",
      "\n",
      "Notes:\n",
      "[1] Standard Errors assume that the covariance matrix of the errors is correctly specified.\n"
     ]
    }
   ],
   "source": [
    "print(lr.summary())"
   ]
  },
  {
   "cell_type": "markdown",
   "id": "6ad0d9fd-2b14-4c24-8564-207900c5f7fa",
   "metadata": {},
   "source": [
    "#### Adding varable one by one"
   ]
  },
  {
   "cell_type": "code",
   "execution_count": 471,
   "id": "44c7c883-96c0-40d3-944f-3d55713b0e91",
   "metadata": {},
   "outputs": [
    {
     "name": "stdout",
     "output_type": "stream",
     "text": [
      "                            OLS Regression Results                            \n",
      "==============================================================================\n",
      "Dep. Variable:                  count   R-squared:                       0.085\n",
      "Model:                            OLS   Adj. R-squared:                  0.084\n",
      "Method:                 Least Squares   F-statistic:                     47.47\n",
      "Date:                Wed, 13 Sep 2023   Prob (F-statistic):           1.66e-11\n",
      "Time:                        18:23:36   Log-Likelihood:                 61.289\n",
      "No. Observations:                 510   AIC:                            -118.6\n",
      "Df Residuals:                     508   BIC:                            -110.1\n",
      "Df Model:                           1                                         \n",
      "Covariance Type:            nonrobust                                         \n",
      "==============================================================================\n",
      "                 coef    std err          t      P>|t|      [0.025      0.975]\n",
      "------------------------------------------------------------------------------\n",
      "const          0.5618      0.012     47.555      0.000       0.539       0.585\n",
      "weather       -0.2398      0.035     -6.890      0.000      -0.308      -0.171\n",
      "==============================================================================\n",
      "Omnibus:                       27.312   Durbin-Watson:                   1.903\n",
      "Prob(Omnibus):                  0.000   Jarque-Bera (JB):               11.363\n",
      "Skew:                          -0.073   Prob(JB):                      0.00341\n",
      "Kurtosis:                       2.283   Cond. No.                         3.82\n",
      "==============================================================================\n",
      "\n",
      "Notes:\n",
      "[1] Standard Errors assume that the covariance matrix of the errors is correctly specified.\n"
     ]
    }
   ],
   "source": [
    "# Add a constant\n",
    "X_train_lm = sm.add_constant(X_train[['weather']])\n",
    "\n",
    "# Create a fitted model\n",
    "lr = sm.OLS(y_train, X_train_lm).fit()\n",
    "# Print a summary of the linear regression model obtained\n",
    "print(lr.summary())"
   ]
  },
  {
   "cell_type": "code",
   "execution_count": 472,
   "id": "888e3fb9-a351-44ea-bdcd-ee3ad7ac498c",
   "metadata": {},
   "outputs": [
    {
     "name": "stdout",
     "output_type": "stream",
     "text": [
      "                            OLS Regression Results                            \n",
      "==============================================================================\n",
      "Dep. Variable:                  count   R-squared:                       0.350\n",
      "Model:                            OLS   Adj. R-squared:                  0.349\n",
      "Method:                 Least Squares   F-statistic:                     273.4\n",
      "Date:                Wed, 13 Sep 2023   Prob (F-statistic):           1.89e-49\n",
      "Time:                        18:23:36   Log-Likelihood:                 148.31\n",
      "No. Observations:                 510   AIC:                            -292.6\n",
      "Df Residuals:                     508   BIC:                            -284.2\n",
      "Df Model:                           1                                         \n",
      "Covariance Type:            nonrobust                                         \n",
      "==============================================================================\n",
      "                 coef    std err          t      P>|t|      [0.025      0.975]\n",
      "------------------------------------------------------------------------------\n",
      "const          0.3788      0.011     33.108      0.000       0.356       0.401\n",
      "year_2019      0.2655      0.016     16.535      0.000       0.234       0.297\n",
      "==============================================================================\n",
      "Omnibus:                       27.294   Durbin-Watson:                   1.787\n",
      "Prob(Omnibus):                  0.000   Jarque-Bera (JB):               29.137\n",
      "Skew:                          -0.559   Prob(JB):                     4.71e-07\n",
      "Kurtosis:                       2.652   Cond. No.                         2.64\n",
      "==============================================================================\n",
      "\n",
      "Notes:\n",
      "[1] Standard Errors assume that the covariance matrix of the errors is correctly specified.\n"
     ]
    }
   ],
   "source": [
    "# Add a constant\n",
    "X_train_lm = sm.add_constant(X_train[['year_2019']])\n",
    "\n",
    "# Create a fitted model\n",
    "lr = sm.OLS(y_train, X_train_lm).fit()\n",
    "# Print a summary of the linear regression model obtained\n",
    "print(lr.summary())"
   ]
  },
  {
   "cell_type": "markdown",
   "id": "e3f076b9-2d67-4713-a7ee-f021f72a3562",
   "metadata": {},
   "source": [
    "#### Adding all variable"
   ]
  },
  {
   "cell_type": "code",
   "execution_count": 473,
   "id": "3be92de6-7aa2-4997-8240-97ba2824fbe2",
   "metadata": {},
   "outputs": [
    {
     "data": {
      "text/plain": [
       "const           -8.326673e-16\n",
       "month           -5.898060e-17\n",
       "holiday         -5.308254e-16\n",
       "weekday         -3.417405e-16\n",
       "workingday       2.220446e-16\n",
       "weather          3.677614e-16\n",
       "casual           3.774735e-01\n",
       "registered       7.968247e-01\n",
       "year_2019       -8.933826e-17\n",
       "season_Summer   -1.249001e-16\n",
       "season_Fall     -2.428613e-16\n",
       "season_Winter   -7.979728e-17\n",
       "dtype: float64"
      ]
     },
     "execution_count": 473,
     "metadata": {},
     "output_type": "execute_result"
    }
   ],
   "source": [
    "#Build a linear model\n",
    "\n",
    "import statsmodels.api as sm\n",
    "X_train_lm = sm.add_constant(X_train)\n",
    "\n",
    "lr_1 = sm.OLS(y_train, X_train_lm).fit()\n",
    "\n",
    "lr_1.params"
   ]
  },
  {
   "cell_type": "code",
   "execution_count": 474,
   "id": "c7995251-c6fc-4c7b-abbc-e25db0059e3d",
   "metadata": {},
   "outputs": [
    {
     "name": "stdout",
     "output_type": "stream",
     "text": [
      "                            OLS Regression Results                            \n",
      "==============================================================================\n",
      "Dep. Variable:                  count   R-squared:                       1.000\n",
      "Model:                            OLS   Adj. R-squared:                  1.000\n",
      "Method:                 Least Squares   F-statistic:                 9.015e+29\n",
      "Date:                Wed, 13 Sep 2023   Prob (F-statistic):               0.00\n",
      "Time:                        18:23:36   Log-Likelihood:                 16655.\n",
      "No. Observations:                 510   AIC:                        -3.329e+04\n",
      "Df Residuals:                     498   BIC:                        -3.323e+04\n",
      "Df Model:                          11                                         \n",
      "Covariance Type:            nonrobust                                         \n",
      "=================================================================================\n",
      "                    coef    std err          t      P>|t|      [0.025      0.975]\n",
      "---------------------------------------------------------------------------------\n",
      "const         -8.327e-16   2.76e-16     -3.021      0.003   -1.37e-15   -2.91e-16\n",
      "month         -5.898e-17   4.45e-16     -0.132      0.895   -9.34e-16    8.16e-16\n",
      "holiday       -5.308e-16   4.76e-16     -1.116      0.265   -1.47e-15    4.03e-16\n",
      "weekday       -3.417e-16   3.61e-17     -9.477      0.000   -4.13e-16   -2.71e-16\n",
      "workingday      2.22e-16   2.81e-16      0.789      0.430   -3.31e-16    7.75e-16\n",
      "weather        3.678e-16   2.98e-16      1.232      0.218   -2.19e-16    9.54e-16\n",
      "casual            0.3775   6.49e-16   5.82e+14      0.000       0.377       0.377\n",
      "registered        0.7968   7.57e-16   1.05e+15      0.000       0.797       0.797\n",
      "year_2019     -8.934e-17    2.3e-16     -0.388      0.698   -5.41e-16    3.63e-16\n",
      "season_Summer -1.249e-16   2.68e-16     -0.465      0.642   -6.52e-16    4.02e-16\n",
      "season_Fall   -2.429e-16   3.42e-16     -0.710      0.478   -9.15e-16    4.29e-16\n",
      "season_Winter  -7.98e-17   4.01e-16     -0.199      0.843   -8.69e-16    7.09e-16\n",
      "==============================================================================\n",
      "Omnibus:                       61.294   Durbin-Watson:                   0.400\n",
      "Prob(Omnibus):                  0.000   Jarque-Bera (JB):               17.470\n",
      "Skew:                           0.082   Prob(JB):                     0.000161\n",
      "Kurtosis:                       2.108   Cond. No.                         49.5\n",
      "==============================================================================\n",
      "\n",
      "Notes:\n",
      "[1] Standard Errors assume that the covariance matrix of the errors is correctly specified.\n"
     ]
    }
   ],
   "source": [
    "print(lr_1.summary())"
   ]
  },
  {
   "cell_type": "markdown",
   "id": "b5eb81e4-fc71-4e17-b357-03d7b38a37b9",
   "metadata": {},
   "source": [
    "### Checking VIF\n",
    "\n",
    "Variance Inflation Factor or VIF, gives a basic quantitative idea about how much the feature variables are correlated with each other. It is an extremely important parameter to test our linear model. The formula for calculating `VIF` is:\n",
    "\n",
    "### $ VIF_i = \\frac{1}{1 - {R_i}^2} $"
   ]
  },
  {
   "cell_type": "code",
   "execution_count": 475,
   "id": "9bae45f6-fa30-41a6-ba7c-8ef3e968ca2e",
   "metadata": {},
   "outputs": [],
   "source": [
    "# Check for the VIF values of the feature variables. \n",
    "from statsmodels.stats.outliers_influence import variance_inflation_factor"
   ]
  },
  {
   "cell_type": "code",
   "execution_count": 476,
   "id": "2655b61a-662b-4097-80c5-24383f1e2484",
   "metadata": {},
   "outputs": [
    {
     "data": {
      "text/html": [
       "<div>\n",
       "<style scoped>\n",
       "    .dataframe tbody tr th:only-of-type {\n",
       "        vertical-align: middle;\n",
       "    }\n",
       "\n",
       "    .dataframe tbody tr th {\n",
       "        vertical-align: top;\n",
       "    }\n",
       "\n",
       "    .dataframe thead th {\n",
       "        text-align: right;\n",
       "    }\n",
       "</style>\n",
       "<table border=\"1\" class=\"dataframe\">\n",
       "  <thead>\n",
       "    <tr style=\"text-align: right;\">\n",
       "      <th></th>\n",
       "      <th>Features</th>\n",
       "      <th>VIF</th>\n",
       "    </tr>\n",
       "  </thead>\n",
       "  <tbody>\n",
       "    <tr>\n",
       "      <th>6</th>\n",
       "      <td>registered</td>\n",
       "      <td>36.67</td>\n",
       "    </tr>\n",
       "    <tr>\n",
       "      <th>0</th>\n",
       "      <td>month</td>\n",
       "      <td>12.70</td>\n",
       "    </tr>\n",
       "    <tr>\n",
       "      <th>3</th>\n",
       "      <td>workingday</td>\n",
       "      <td>8.76</td>\n",
       "    </tr>\n",
       "    <tr>\n",
       "      <th>10</th>\n",
       "      <td>season_Winter</td>\n",
       "      <td>7.75</td>\n",
       "    </tr>\n",
       "    <tr>\n",
       "      <th>5</th>\n",
       "      <td>casual</td>\n",
       "      <td>7.55</td>\n",
       "    </tr>\n",
       "    <tr>\n",
       "      <th>9</th>\n",
       "      <td>season_Fall</td>\n",
       "      <td>5.85</td>\n",
       "    </tr>\n",
       "    <tr>\n",
       "      <th>7</th>\n",
       "      <td>year_2019</td>\n",
       "      <td>5.29</td>\n",
       "    </tr>\n",
       "    <tr>\n",
       "      <th>8</th>\n",
       "      <td>season_Summer</td>\n",
       "      <td>3.47</td>\n",
       "    </tr>\n",
       "    <tr>\n",
       "      <th>2</th>\n",
       "      <td>weekday</td>\n",
       "      <td>2.94</td>\n",
       "    </tr>\n",
       "    <tr>\n",
       "      <th>4</th>\n",
       "      <td>weather</td>\n",
       "      <td>1.84</td>\n",
       "    </tr>\n",
       "    <tr>\n",
       "      <th>1</th>\n",
       "      <td>holiday</td>\n",
       "      <td>1.06</td>\n",
       "    </tr>\n",
       "  </tbody>\n",
       "</table>\n",
       "</div>"
      ],
      "text/plain": [
       "         Features    VIF\n",
       "6      registered  36.67\n",
       "0           month  12.70\n",
       "3      workingday   8.76\n",
       "10  season_Winter   7.75\n",
       "5          casual   7.55\n",
       "9     season_Fall   5.85\n",
       "7       year_2019   5.29\n",
       "8   season_Summer   3.47\n",
       "2         weekday   2.94\n",
       "4         weather   1.84\n",
       "1         holiday   1.06"
      ]
     },
     "execution_count": 476,
     "metadata": {},
     "output_type": "execute_result"
    }
   ],
   "source": [
    "# Create a dataframe that will contain the names of all the feature variables and their respective VIFs\n",
    "vif = pd.DataFrame()\n",
    "vif['Features'] = X_train.columns\n",
    "vif['VIF'] = [variance_inflation_factor(X_train.values, i) for i in range(X_train.shape[1])]\n",
    "vif['VIF'] = round(vif['VIF'], 2)\n",
    "vif = vif.sort_values(by = \"VIF\", ascending = False)\n",
    "vif"
   ]
  },
  {
   "cell_type": "markdown",
   "id": "6b7786ce-717e-4999-a32a-87c50d21ded4",
   "metadata": {},
   "source": [
    "#### A VIF of inf means that there is perfect multicollinearity, \n",
    "#### meaning that one or more of the independent variables can be expressed as a linear combination of the others."
   ]
  },
  {
   "cell_type": "code",
   "execution_count": 477,
   "id": "3344eae0-fa3f-4b57-9e0c-497afa71ded8",
   "metadata": {},
   "outputs": [],
   "source": [
    "#X = X_train.drop('year_2019' ,axis=1)\n",
    "X = X_train.drop(columns = ['year_2019'])"
   ]
  },
  {
   "cell_type": "code",
   "execution_count": 478,
   "id": "0eba490e-3866-4044-a98a-73b75ce5a206",
   "metadata": {},
   "outputs": [
    {
     "name": "stdout",
     "output_type": "stream",
     "text": [
      "                            OLS Regression Results                            \n",
      "==============================================================================\n",
      "Dep. Variable:                  count   R-squared:                       1.000\n",
      "Model:                            OLS   Adj. R-squared:                  1.000\n",
      "Method:                 Least Squares   F-statistic:                 2.747e+28\n",
      "Date:                Wed, 13 Sep 2023   Prob (F-statistic):               0.00\n",
      "Time:                        18:23:36   Log-Likelihood:                 15740.\n",
      "No. Observations:                 510   AIC:                        -3.146e+04\n",
      "Df Residuals:                     499   BIC:                        -3.141e+04\n",
      "Df Model:                          10                                         \n",
      "Covariance Type:            nonrobust                                         \n",
      "=================================================================================\n",
      "                    coef    std err          t      P>|t|      [0.025      0.975]\n",
      "---------------------------------------------------------------------------------\n",
      "const         -5.967e-16   1.66e-15     -0.360      0.719   -3.85e-15    2.66e-15\n",
      "month         -6.245e-16   2.67e-15     -0.234      0.815   -5.86e-15    4.61e-15\n",
      "holiday       -3.539e-16   2.86e-15     -0.124      0.901   -5.97e-15    5.26e-15\n",
      "weekday       -2.408e-15   2.15e-16    -11.187      0.000   -2.83e-15   -1.98e-15\n",
      "workingday     2.429e-17   1.58e-15      0.015      0.988   -3.08e-15    3.13e-15\n",
      "weather        2.567e-16   1.69e-15      0.152      0.880   -3.07e-15    3.59e-15\n",
      "casual            0.3775   3.87e-15   9.77e+13      0.000       0.377       0.377\n",
      "registered        0.7968   3.05e-15   2.61e+14      0.000       0.797       0.797\n",
      "season_Summer -2.429e-16   1.51e-15     -0.160      0.873   -3.22e-15    2.73e-15\n",
      "season_Fall   -6.939e-17   1.93e-15     -0.036      0.971   -3.86e-15    3.72e-15\n",
      "season_Winter -9.714e-17   2.34e-15     -0.042      0.967   -4.69e-15     4.5e-15\n",
      "==============================================================================\n",
      "Omnibus:                      433.515   Durbin-Watson:                   0.540\n",
      "Prob(Omnibus):                  0.000   Jarque-Bera (JB):               32.659\n",
      "Skew:                           0.033   Prob(JB):                     8.10e-08\n",
      "Kurtosis:                       1.762   Cond. No.                         41.9\n",
      "==============================================================================\n",
      "\n",
      "Notes:\n",
      "[1] Standard Errors assume that the covariance matrix of the errors is correctly specified.\n"
     ]
    }
   ],
   "source": [
    "X_train_lm = sm.add_constant(X)\n",
    "lr_1 = sm.OLS(y_train, X_train_lm).fit()\n",
    "lr_1.params\n",
    "print(lr_1.summary())"
   ]
  },
  {
   "cell_type": "code",
   "execution_count": 479,
   "id": "1ae1f661-050a-4e78-9039-f85d4b1cd175",
   "metadata": {},
   "outputs": [
    {
     "data": {
      "text/html": [
       "<div>\n",
       "<style scoped>\n",
       "    .dataframe tbody tr th:only-of-type {\n",
       "        vertical-align: middle;\n",
       "    }\n",
       "\n",
       "    .dataframe tbody tr th {\n",
       "        vertical-align: top;\n",
       "    }\n",
       "\n",
       "    .dataframe thead th {\n",
       "        text-align: right;\n",
       "    }\n",
       "</style>\n",
       "<table border=\"1\" class=\"dataframe\">\n",
       "  <thead>\n",
       "    <tr style=\"text-align: right;\">\n",
       "      <th></th>\n",
       "      <th>Features</th>\n",
       "      <th>VIF</th>\n",
       "    </tr>\n",
       "  </thead>\n",
       "  <tbody>\n",
       "    <tr>\n",
       "      <th>6</th>\n",
       "      <td>registered</td>\n",
       "      <td>16.38</td>\n",
       "    </tr>\n",
       "    <tr>\n",
       "      <th>0</th>\n",
       "      <td>month</td>\n",
       "      <td>12.60</td>\n",
       "    </tr>\n",
       "    <tr>\n",
       "      <th>3</th>\n",
       "      <td>workingday</td>\n",
       "      <td>7.45</td>\n",
       "    </tr>\n",
       "    <tr>\n",
       "      <th>5</th>\n",
       "      <td>casual</td>\n",
       "      <td>7.42</td>\n",
       "    </tr>\n",
       "    <tr>\n",
       "      <th>9</th>\n",
       "      <td>season_Winter</td>\n",
       "      <td>7.28</td>\n",
       "    </tr>\n",
       "    <tr>\n",
       "      <th>8</th>\n",
       "      <td>season_Fall</td>\n",
       "      <td>5.12</td>\n",
       "    </tr>\n",
       "    <tr>\n",
       "      <th>7</th>\n",
       "      <td>season_Summer</td>\n",
       "      <td>3.06</td>\n",
       "    </tr>\n",
       "    <tr>\n",
       "      <th>2</th>\n",
       "      <td>weekday</td>\n",
       "      <td>2.89</td>\n",
       "    </tr>\n",
       "    <tr>\n",
       "      <th>4</th>\n",
       "      <td>weather</td>\n",
       "      <td>1.62</td>\n",
       "    </tr>\n",
       "    <tr>\n",
       "      <th>1</th>\n",
       "      <td>holiday</td>\n",
       "      <td>1.06</td>\n",
       "    </tr>\n",
       "  </tbody>\n",
       "</table>\n",
       "</div>"
      ],
      "text/plain": [
       "        Features    VIF\n",
       "6     registered  16.38\n",
       "0          month  12.60\n",
       "3     workingday   7.45\n",
       "5         casual   7.42\n",
       "9  season_Winter   7.28\n",
       "8    season_Fall   5.12\n",
       "7  season_Summer   3.06\n",
       "2        weekday   2.89\n",
       "4        weather   1.62\n",
       "1        holiday   1.06"
      ]
     },
     "execution_count": 479,
     "metadata": {},
     "output_type": "execute_result"
    }
   ],
   "source": [
    "# Create a dataframe that will contain the names of all the feature variables and their respective VIFs\n",
    "vif = pd.DataFrame()\n",
    "vif['Features'] = X.columns\n",
    "vif['VIF'] = [variance_inflation_factor(X.values, i) for i in range(X.shape[1])]\n",
    "vif['VIF'] = round(vif['VIF'], 2)\n",
    "vif = vif.sort_values(by = \"VIF\", ascending = False)\n",
    "vif"
   ]
  },
  {
   "cell_type": "code",
   "execution_count": 480,
   "id": "38ed6c2a-83c1-49ef-8b0e-0f3bab27de92",
   "metadata": {},
   "outputs": [],
   "source": [
    "XX = X_train.drop(columns = ['year_2019' ,'season_Winter' , 'season_Fall' ,'season_Summer'])"
   ]
  },
  {
   "cell_type": "code",
   "execution_count": 481,
   "id": "0d60e8ea-94f3-4ccc-acb1-416a5f95909a",
   "metadata": {},
   "outputs": [
    {
     "name": "stdout",
     "output_type": "stream",
     "text": [
      "                            OLS Regression Results                            \n",
      "==============================================================================\n",
      "Dep. Variable:                  count   R-squared:                       1.000\n",
      "Model:                            OLS   Adj. R-squared:                  1.000\n",
      "Method:                 Least Squares   F-statistic:                 4.215e+29\n",
      "Date:                Wed, 13 Sep 2023   Prob (F-statistic):               0.00\n",
      "Time:                        18:23:36   Log-Likelihood:                 16343.\n",
      "No. Observations:                 510   AIC:                        -3.267e+04\n",
      "Df Residuals:                     502   BIC:                        -3.264e+04\n",
      "Df Model:                           7                                         \n",
      "Covariance Type:            nonrobust                                         \n",
      "==============================================================================\n",
      "                 coef    std err          t      P>|t|      [0.025      0.975]\n",
      "------------------------------------------------------------------------------\n",
      "const      -2.082e-16   4.92e-16     -0.423      0.672   -1.18e-15    7.59e-16\n",
      "month       3.417e-16   4.46e-16      0.766      0.444   -5.35e-16    1.22e-15\n",
      "holiday    -3.261e-16   8.71e-16     -0.374      0.708   -2.04e-15    1.39e-15\n",
      "weekday    -8.309e-16   6.54e-17    -12.707      0.000   -9.59e-16   -7.02e-16\n",
      "workingday  9.714e-17   4.61e-16      0.211      0.833   -8.08e-16       1e-15\n",
      "weather     6.939e-17   5.08e-16      0.137      0.891   -9.29e-16    1.07e-15\n",
      "casual         0.3775   1.05e-15    3.6e+14      0.000       0.377       0.377\n",
      "registered     0.7968   9.14e-16   8.72e+14      0.000       0.797       0.797\n",
      "==============================================================================\n",
      "Omnibus:                      356.482   Durbin-Watson:                   0.687\n",
      "Prob(Omnibus):                  0.000   Jarque-Bera (JB):               31.394\n",
      "Skew:                           0.040   Prob(JB):                     1.52e-07\n",
      "Kurtosis:                       1.787   Cond. No.                         39.3\n",
      "==============================================================================\n",
      "\n",
      "Notes:\n",
      "[1] Standard Errors assume that the covariance matrix of the errors is correctly specified.\n"
     ]
    }
   ],
   "source": [
    "X_train_lm = sm.add_constant(XX)\n",
    "lr_1 = sm.OLS(y_train, X_train_lm).fit()\n",
    "lr_1.params\n",
    "print(lr_1.summary())"
   ]
  },
  {
   "cell_type": "code",
   "execution_count": 482,
   "id": "2d831f42-0413-41d3-9bf4-63edf22fde9c",
   "metadata": {},
   "outputs": [
    {
     "data": {
      "text/html": [
       "<div>\n",
       "<style scoped>\n",
       "    .dataframe tbody tr th:only-of-type {\n",
       "        vertical-align: middle;\n",
       "    }\n",
       "\n",
       "    .dataframe tbody tr th {\n",
       "        vertical-align: top;\n",
       "    }\n",
       "\n",
       "    .dataframe thead th {\n",
       "        text-align: right;\n",
       "    }\n",
       "</style>\n",
       "<table border=\"1\" class=\"dataframe\">\n",
       "  <thead>\n",
       "    <tr style=\"text-align: right;\">\n",
       "      <th></th>\n",
       "      <th>Features</th>\n",
       "      <th>VIF</th>\n",
       "    </tr>\n",
       "  </thead>\n",
       "  <tbody>\n",
       "    <tr>\n",
       "      <th>6</th>\n",
       "      <td>registered</td>\n",
       "      <td>15.88</td>\n",
       "    </tr>\n",
       "    <tr>\n",
       "      <th>3</th>\n",
       "      <td>workingday</td>\n",
       "      <td>6.69</td>\n",
       "    </tr>\n",
       "    <tr>\n",
       "      <th>5</th>\n",
       "      <td>casual</td>\n",
       "      <td>5.74</td>\n",
       "    </tr>\n",
       "    <tr>\n",
       "      <th>0</th>\n",
       "      <td>month</td>\n",
       "      <td>3.80</td>\n",
       "    </tr>\n",
       "    <tr>\n",
       "      <th>2</th>\n",
       "      <td>weekday</td>\n",
       "      <td>2.82</td>\n",
       "    </tr>\n",
       "    <tr>\n",
       "      <th>4</th>\n",
       "      <td>weather</td>\n",
       "      <td>1.57</td>\n",
       "    </tr>\n",
       "    <tr>\n",
       "      <th>1</th>\n",
       "      <td>holiday</td>\n",
       "      <td>1.05</td>\n",
       "    </tr>\n",
       "  </tbody>\n",
       "</table>\n",
       "</div>"
      ],
      "text/plain": [
       "     Features    VIF\n",
       "6  registered  15.88\n",
       "3  workingday   6.69\n",
       "5      casual   5.74\n",
       "0       month   3.80\n",
       "2     weekday   2.82\n",
       "4     weather   1.57\n",
       "1     holiday   1.05"
      ]
     },
     "execution_count": 482,
     "metadata": {},
     "output_type": "execute_result"
    }
   ],
   "source": [
    "# Create a dataframe that will contain the names of all the feature variables and their respective VIFs\n",
    "vif = pd.DataFrame()\n",
    "vif['Features'] = XX.columns\n",
    "vif['VIF'] = [variance_inflation_factor(XX.values, i) for i in range(XX.shape[1])]\n",
    "vif['VIF'] = round(vif['VIF'], 2)\n",
    "vif = vif.sort_values(by = \"VIF\", ascending = False)\n",
    "vif"
   ]
  },
  {
   "cell_type": "code",
   "execution_count": 483,
   "id": "2b8f5c45-a1da-4399-959e-8d7e6128ef07",
   "metadata": {},
   "outputs": [],
   "source": [
    "XXX = X_train.drop(columns = ['year_2019' ,'season_Winter' ,\n",
    "                        'season_Fall' ,'season_Summer','weekday'])"
   ]
  },
  {
   "cell_type": "code",
   "execution_count": 484,
   "id": "7c822663-e9f9-45ea-910f-a4d78559949c",
   "metadata": {},
   "outputs": [
    {
     "name": "stdout",
     "output_type": "stream",
     "text": [
      "                            OLS Regression Results                            \n",
      "==============================================================================\n",
      "Dep. Variable:                  count   R-squared:                       1.000\n",
      "Model:                            OLS   Adj. R-squared:                  1.000\n",
      "Method:                 Least Squares   F-statistic:                 2.000e+32\n",
      "Date:                Wed, 13 Sep 2023   Prob (F-statistic):               0.00\n",
      "Time:                        18:23:36   Log-Likelihood:                 17875.\n",
      "No. Observations:                 510   AIC:                        -3.574e+04\n",
      "Df Residuals:                     503   BIC:                        -3.571e+04\n",
      "Df Model:                           6                                         \n",
      "Covariance Type:            nonrobust                                         \n",
      "==============================================================================\n",
      "                 coef    std err          t      P>|t|      [0.025      0.975]\n",
      "------------------------------------------------------------------------------\n",
      "const       1.596e-16   2.27e-17      7.026      0.000    1.15e-16    2.04e-16\n",
      "month      -3.695e-16   2.21e-17    -16.698      0.000   -4.13e-16   -3.26e-16\n",
      "holiday     4.094e-16    4.3e-17      9.514      0.000    3.25e-16    4.94e-16\n",
      "workingday  5.204e-17   2.28e-17      2.279      0.023    7.18e-18    9.69e-17\n",
      "weather     3.123e-17   2.51e-17      1.242      0.215   -1.82e-17    8.06e-17\n",
      "casual         0.3775   5.18e-17   7.28e+15      0.000       0.377       0.377\n",
      "registered     0.7968   4.53e-17   1.76e+16      0.000       0.797       0.797\n",
      "==============================================================================\n",
      "Omnibus:                       17.153   Durbin-Watson:                   1.973\n",
      "Prob(Omnibus):                  0.000   Jarque-Bera (JB):               20.457\n",
      "Skew:                          -0.357   Prob(JB):                     3.61e-05\n",
      "Kurtosis:                       3.673   Cond. No.                         15.2\n",
      "==============================================================================\n",
      "\n",
      "Notes:\n",
      "[1] Standard Errors assume that the covariance matrix of the errors is correctly specified.\n"
     ]
    }
   ],
   "source": [
    "X_train_lm = sm.add_constant(XXX)\n",
    "lr_1 = sm.OLS(y_train, X_train_lm).fit()\n",
    "lr_1.params\n",
    "print(lr_1.summary())"
   ]
  },
  {
   "cell_type": "code",
   "execution_count": 485,
   "id": "eecb8ccb-06b3-423f-859c-494edf355955",
   "metadata": {},
   "outputs": [
    {
     "data": {
      "text/html": [
       "<div>\n",
       "<style scoped>\n",
       "    .dataframe tbody tr th:only-of-type {\n",
       "        vertical-align: middle;\n",
       "    }\n",
       "\n",
       "    .dataframe tbody tr th {\n",
       "        vertical-align: top;\n",
       "    }\n",
       "\n",
       "    .dataframe thead th {\n",
       "        text-align: right;\n",
       "    }\n",
       "</style>\n",
       "<table border=\"1\" class=\"dataframe\">\n",
       "  <thead>\n",
       "    <tr style=\"text-align: right;\">\n",
       "      <th></th>\n",
       "      <th>Features</th>\n",
       "      <th>VIF</th>\n",
       "    </tr>\n",
       "  </thead>\n",
       "  <tbody>\n",
       "    <tr>\n",
       "      <th>5</th>\n",
       "      <td>registered</td>\n",
       "      <td>15.88</td>\n",
       "    </tr>\n",
       "    <tr>\n",
       "      <th>2</th>\n",
       "      <td>workingday</td>\n",
       "      <td>6.39</td>\n",
       "    </tr>\n",
       "    <tr>\n",
       "      <th>4</th>\n",
       "      <td>casual</td>\n",
       "      <td>5.41</td>\n",
       "    </tr>\n",
       "    <tr>\n",
       "      <th>0</th>\n",
       "      <td>month</td>\n",
       "      <td>3.76</td>\n",
       "    </tr>\n",
       "    <tr>\n",
       "      <th>3</th>\n",
       "      <td>weather</td>\n",
       "      <td>1.51</td>\n",
       "    </tr>\n",
       "    <tr>\n",
       "      <th>1</th>\n",
       "      <td>holiday</td>\n",
       "      <td>1.05</td>\n",
       "    </tr>\n",
       "  </tbody>\n",
       "</table>\n",
       "</div>"
      ],
      "text/plain": [
       "     Features    VIF\n",
       "5  registered  15.88\n",
       "2  workingday   6.39\n",
       "4      casual   5.41\n",
       "0       month   3.76\n",
       "3     weather   1.51\n",
       "1     holiday   1.05"
      ]
     },
     "execution_count": 485,
     "metadata": {},
     "output_type": "execute_result"
    }
   ],
   "source": [
    "# Create a dataframe that will contain the names of all the feature variables and their respective VIFs\n",
    "vif = pd.DataFrame()\n",
    "vif['Features'] = XXX.columns\n",
    "vif['VIF'] = [variance_inflation_factor(XXX.values, i) for i in range(XXX.shape[1])]\n",
    "vif['VIF'] = round(vif['VIF'], 2)\n",
    "vif = vif.sort_values(by = \"VIF\", ascending = False)\n",
    "vif"
   ]
  },
  {
   "cell_type": "code",
   "execution_count": 512,
   "id": "a2f4b330-e9fb-4793-abdc-1f5a81e2a485",
   "metadata": {},
   "outputs": [],
   "source": [
    "X4 = X_train.drop(columns = ['year_2019' ,'season_Winter' ,\n",
    "                        'season_Fall' ,'season_Summer','weekday' ,'registered'])"
   ]
  },
  {
   "cell_type": "code",
   "execution_count": 487,
   "id": "721d8d83-23f0-4090-acf1-259245208121",
   "metadata": {},
   "outputs": [
    {
     "name": "stdout",
     "output_type": "stream",
     "text": [
      "                            OLS Regression Results                            \n",
      "==============================================================================\n",
      "Dep. Variable:                  count   R-squared:                       1.000\n",
      "Model:                            OLS   Adj. R-squared:                  1.000\n",
      "Method:                 Least Squares   F-statistic:                 2.000e+32\n",
      "Date:                Wed, 13 Sep 2023   Prob (F-statistic):               0.00\n",
      "Time:                        18:27:51   Log-Likelihood:                 17875.\n",
      "No. Observations:                 510   AIC:                        -3.574e+04\n",
      "Df Residuals:                     503   BIC:                        -3.571e+04\n",
      "Df Model:                           6                                         \n",
      "Covariance Type:            nonrobust                                         \n",
      "==============================================================================\n",
      "                 coef    std err          t      P>|t|      [0.025      0.975]\n",
      "------------------------------------------------------------------------------\n",
      "const       1.596e-16   2.27e-17      7.026      0.000    1.15e-16    2.04e-16\n",
      "month      -3.695e-16   2.21e-17    -16.698      0.000   -4.13e-16   -3.26e-16\n",
      "holiday     4.094e-16    4.3e-17      9.514      0.000    3.25e-16    4.94e-16\n",
      "workingday  5.204e-17   2.28e-17      2.279      0.023    7.18e-18    9.69e-17\n",
      "weather     3.123e-17   2.51e-17      1.242      0.215   -1.82e-17    8.06e-17\n",
      "casual         0.3775   5.18e-17   7.28e+15      0.000       0.377       0.377\n",
      "registered     0.7968   4.53e-17   1.76e+16      0.000       0.797       0.797\n",
      "==============================================================================\n",
      "Omnibus:                       17.153   Durbin-Watson:                   1.973\n",
      "Prob(Omnibus):                  0.000   Jarque-Bera (JB):               20.457\n",
      "Skew:                          -0.357   Prob(JB):                     3.61e-05\n",
      "Kurtosis:                       3.673   Cond. No.                         15.2\n",
      "==============================================================================\n",
      "\n",
      "Notes:\n",
      "[1] Standard Errors assume that the covariance matrix of the errors is correctly specified.\n"
     ]
    }
   ],
   "source": [
    "X_train_lm = sm.add_constant(X4)\n",
    "lr_1 = sm.OLS(y_train, X_train_lm).fit()\n",
    "lr_1.params\n",
    "print(lr_1.summary())"
   ]
  },
  {
   "cell_type": "code",
   "execution_count": 513,
   "id": "b5d45c5e-11f6-4633-9c6d-d557bc7164ef",
   "metadata": {},
   "outputs": [
    {
     "data": {
      "text/html": [
       "<div>\n",
       "<style scoped>\n",
       "    .dataframe tbody tr th:only-of-type {\n",
       "        vertical-align: middle;\n",
       "    }\n",
       "\n",
       "    .dataframe tbody tr th {\n",
       "        vertical-align: top;\n",
       "    }\n",
       "\n",
       "    .dataframe thead th {\n",
       "        text-align: right;\n",
       "    }\n",
       "</style>\n",
       "<table border=\"1\" class=\"dataframe\">\n",
       "  <thead>\n",
       "    <tr style=\"text-align: right;\">\n",
       "      <th></th>\n",
       "      <th>Features</th>\n",
       "      <th>VIF</th>\n",
       "    </tr>\n",
       "  </thead>\n",
       "  <tbody>\n",
       "    <tr>\n",
       "      <th>0</th>\n",
       "      <td>month</td>\n",
       "      <td>3.23</td>\n",
       "    </tr>\n",
       "    <tr>\n",
       "      <th>2</th>\n",
       "      <td>workingday</td>\n",
       "      <td>2.07</td>\n",
       "    </tr>\n",
       "    <tr>\n",
       "      <th>4</th>\n",
       "      <td>casual</td>\n",
       "      <td>2.00</td>\n",
       "    </tr>\n",
       "    <tr>\n",
       "      <th>3</th>\n",
       "      <td>weather</td>\n",
       "      <td>1.45</td>\n",
       "    </tr>\n",
       "    <tr>\n",
       "      <th>1</th>\n",
       "      <td>holiday</td>\n",
       "      <td>1.05</td>\n",
       "    </tr>\n",
       "  </tbody>\n",
       "</table>\n",
       "</div>"
      ],
      "text/plain": [
       "     Features   VIF\n",
       "0       month  3.23\n",
       "2  workingday  2.07\n",
       "4      casual  2.00\n",
       "3     weather  1.45\n",
       "1     holiday  1.05"
      ]
     },
     "execution_count": 513,
     "metadata": {},
     "output_type": "execute_result"
    }
   ],
   "source": [
    "# Create a dataframe that will contain the names of all the feature variables and their respective VIFs\n",
    "vif = pd.DataFrame()\n",
    "vif['Features'] = X4.columns\n",
    "vif['VIF'] = [variance_inflation_factor(X4.values, i) for i in range(X4.shape[1])]\n",
    "vif['VIF'] = round(vif['VIF'], 2)\n",
    "vif = vif.sort_values(by = \"VIF\", ascending = False)\n",
    "vif"
   ]
  },
  {
   "cell_type": "code",
   "execution_count": 489,
   "id": "6b4bc6b6-5de0-4313-8b2d-6dbba78fbfeb",
   "metadata": {},
   "outputs": [],
   "source": [
    "# Build a fourth fitted model\n",
    "X_train_lm = sm.add_constant(X4)\n",
    "\n",
    "lr_4 = sm.OLS(y_train, X_train_lm).fit()"
   ]
  },
  {
   "cell_type": "code",
   "execution_count": 490,
   "id": "72bbddf5-4c12-4d2f-be71-e4c3e1856bbc",
   "metadata": {},
   "outputs": [
    {
     "name": "stdout",
     "output_type": "stream",
     "text": [
      "                            OLS Regression Results                            \n",
      "==============================================================================\n",
      "Dep. Variable:                  count   R-squared:                       0.742\n",
      "Model:                            OLS   Adj. R-squared:                  0.740\n",
      "Method:                 Least Squares   F-statistic:                     290.1\n",
      "Date:                Wed, 13 Sep 2023   Prob (F-statistic):          8.86e-146\n",
      "Time:                        18:23:36   Log-Likelihood:                 384.14\n",
      "No. Observations:                 510   AIC:                            -756.3\n",
      "Df Residuals:                     504   BIC:                            -730.9\n",
      "Df Model:                           5                                         \n",
      "Covariance Type:            nonrobust                                         \n",
      "==============================================================================\n",
      "                 coef    std err          t      P>|t|      [0.025      0.975]\n",
      "------------------------------------------------------------------------------\n",
      "const          0.0300      0.018      1.693      0.091      -0.005       0.065\n",
      "month          0.1300      0.016      7.951      0.000       0.098       0.162\n",
      "holiday        0.0469      0.034      1.394      0.164      -0.019       0.113\n",
      "workingday     0.2723      0.013     20.698      0.000       0.246       0.298\n",
      "weather       -0.0934      0.019     -4.849      0.000      -0.131      -0.056\n",
      "casual         0.9871      0.030     32.674      0.000       0.928       1.046\n",
      "==============================================================================\n",
      "Omnibus:                       17.971   Durbin-Watson:                   1.972\n",
      "Prob(Omnibus):                  0.000   Jarque-Bera (JB):                9.265\n",
      "Skew:                          -0.112   Prob(JB):                      0.00973\n",
      "Kurtosis:                       2.379   Cond. No.                         10.2\n",
      "==============================================================================\n",
      "\n",
      "Notes:\n",
      "[1] Standard Errors assume that the covariance matrix of the errors is correctly specified.\n"
     ]
    }
   ],
   "source": [
    "print(lr_4.summary())"
   ]
  },
  {
   "cell_type": "markdown",
   "id": "668242c0-6d40-4455-81a1-1d37ee0ad9f9",
   "metadata": {
    "tags": []
   },
   "source": [
    "## Residual Analysis of the train data\n",
    "\n",
    "So, now to check if the error terms are also normally distributed (which is infact, one of the major assumptions of linear regression), let us plot the histogram of the error terms and see what it looks like."
   ]
  },
  {
   "cell_type": "code",
   "execution_count": 491,
   "id": "d653bbe7-f338-411e-beab-88e2c6880eab",
   "metadata": {},
   "outputs": [
    {
     "data": {
      "text/plain": [
       "510"
      ]
     },
     "execution_count": 491,
     "metadata": {},
     "output_type": "execute_result"
    }
   ],
   "source": [
    "y_train_count = lr_4.predict(X_train_lm)\n",
    "len(y_train_count)"
   ]
  },
  {
   "cell_type": "code",
   "execution_count": 492,
   "id": "cd9f4938-8d6e-4ee8-82f8-c13b677fa4fd",
   "metadata": {},
   "outputs": [
    {
     "data": {
      "text/plain": [
       "Text(0.5, 0, 'Errors')"
      ]
     },
     "execution_count": 492,
     "metadata": {},
     "output_type": "execute_result"
    },
    {
     "data": {
      "image/png": "[encoded data removed]",
      "text/plain": [
       "<Figure size 640x480 with 1 Axes>"
      ]
     },
     "metadata": {},
     "output_type": "display_data"
    }
   ],
   "source": [
    "# Plot the histogram of the error terms\n",
    "fig = plt.figure()\n",
    "sns.distplot((y_train - y_train_count), bins = 20)\n",
    "fig.suptitle('Error Terms', fontsize = 20)                  # Plot heading \n",
    "plt.xlabel('Errors', fontsize = 18)                         # X-label"
   ]
  },
  {
   "cell_type": "markdown",
   "id": "10772f4a-33a5-4ffb-a56f-4a40e0d3dc4c",
   "metadata": {},
   "source": [
    "Making Predictions Using the Final Model\n",
    "\n",
    "Now that we have fitted the model and checked the normality of error terms, it's time to go ahead and make predictions using the final, i.e. fourth model."
   ]
  },
  {
   "cell_type": "markdown",
   "id": "edf7bb2c-a3c0-414b-94c3-b216e713711d",
   "metadata": {},
   "source": [
    "## Scaling"
   ]
  },
  {
   "cell_type": "code",
   "execution_count": 493,
   "id": "4373fbe4-95eb-4b52-9841-986d4b31994d",
   "metadata": {},
   "outputs": [],
   "source": [
    "num_vars = ['weather', 'month' ,'casual','registered','count']\n",
    "\n",
    "df_test[num_vars] = scaler.transform(df_test[num_vars])"
   ]
  },
  {
   "cell_type": "code",
   "execution_count": 494,
   "id": "4f41d4ab-2e8f-46c2-a40b-9a254202536f",
   "metadata": {},
   "outputs": [
    {
     "data": {
      "text/html": [
       "<div>\n",
       "<style scoped>\n",
       "    .dataframe tbody tr th:only-of-type {\n",
       "        vertical-align: middle;\n",
       "    }\n",
       "\n",
       "    .dataframe tbody tr th {\n",
       "        vertical-align: top;\n",
       "    }\n",
       "\n",
       "    .dataframe thead th {\n",
       "        text-align: right;\n",
       "    }\n",
       "</style>\n",
       "<table border=\"1\" class=\"dataframe\">\n",
       "  <thead>\n",
       "    <tr style=\"text-align: right;\">\n",
       "      <th></th>\n",
       "      <th>month</th>\n",
       "      <th>weather</th>\n",
       "      <th>casual</th>\n",
       "      <th>registered</th>\n",
       "      <th>count</th>\n",
       "      <th>year_2019</th>\n",
       "      <th>season_Summer</th>\n",
       "      <th>season_Fall</th>\n",
       "      <th>season_Winter</th>\n",
       "    </tr>\n",
       "  </thead>\n",
       "  <tbody>\n",
       "    <tr>\n",
       "      <th>count</th>\n",
       "      <td>219.000000</td>\n",
       "      <td>219.000000</td>\n",
       "      <td>219.000000</td>\n",
       "      <td>219.000000</td>\n",
       "      <td>219.000000</td>\n",
       "      <td>219.000000</td>\n",
       "      <td>219.000000</td>\n",
       "      <td>219.000000</td>\n",
       "      <td>219.000000</td>\n",
       "    </tr>\n",
       "    <tr>\n",
       "      <th>mean</th>\n",
       "      <td>0.497717</td>\n",
       "      <td>0.187215</td>\n",
       "      <td>0.266372</td>\n",
       "      <td>0.527146</td>\n",
       "      <td>0.520592</td>\n",
       "      <td>0.479452</td>\n",
       "      <td>0.264840</td>\n",
       "      <td>0.246575</td>\n",
       "      <td>0.232877</td>\n",
       "    </tr>\n",
       "    <tr>\n",
       "      <th>std</th>\n",
       "      <td>0.311080</td>\n",
       "      <td>0.269422</td>\n",
       "      <td>0.217246</td>\n",
       "      <td>0.217921</td>\n",
       "      <td>0.218435</td>\n",
       "      <td>0.500722</td>\n",
       "      <td>0.442259</td>\n",
       "      <td>0.432005</td>\n",
       "      <td>0.423633</td>\n",
       "    </tr>\n",
       "    <tr>\n",
       "      <th>min</th>\n",
       "      <td>0.000000</td>\n",
       "      <td>0.000000</td>\n",
       "      <td>0.002133</td>\n",
       "      <td>0.059486</td>\n",
       "      <td>0.048205</td>\n",
       "      <td>0.000000</td>\n",
       "      <td>0.000000</td>\n",
       "      <td>0.000000</td>\n",
       "      <td>0.000000</td>\n",
       "    </tr>\n",
       "    <tr>\n",
       "      <th>25%</th>\n",
       "      <td>0.272727</td>\n",
       "      <td>0.000000</td>\n",
       "      <td>0.101951</td>\n",
       "      <td>0.359154</td>\n",
       "      <td>0.377531</td>\n",
       "      <td>0.000000</td>\n",
       "      <td>0.000000</td>\n",
       "      <td>0.000000</td>\n",
       "      <td>0.000000</td>\n",
       "    </tr>\n",
       "    <tr>\n",
       "      <th>50%</th>\n",
       "      <td>0.454545</td>\n",
       "      <td>0.000000</td>\n",
       "      <td>0.223712</td>\n",
       "      <td>0.526567</td>\n",
       "      <td>0.524275</td>\n",
       "      <td>0.000000</td>\n",
       "      <td>0.000000</td>\n",
       "      <td>0.000000</td>\n",
       "      <td>0.000000</td>\n",
       "    </tr>\n",
       "    <tr>\n",
       "      <th>75%</th>\n",
       "      <td>0.727273</td>\n",
       "      <td>0.500000</td>\n",
       "      <td>0.362085</td>\n",
       "      <td>0.664742</td>\n",
       "      <td>0.672745</td>\n",
       "      <td>1.000000</td>\n",
       "      <td>1.000000</td>\n",
       "      <td>0.000000</td>\n",
       "      <td>0.000000</td>\n",
       "    </tr>\n",
       "    <tr>\n",
       "      <th>max</th>\n",
       "      <td>1.000000</td>\n",
       "      <td>1.000000</td>\n",
       "      <td>1.038708</td>\n",
       "      <td>0.985273</td>\n",
       "      <td>0.963300</td>\n",
       "      <td>1.000000</td>\n",
       "      <td>1.000000</td>\n",
       "      <td>1.000000</td>\n",
       "      <td>1.000000</td>\n",
       "    </tr>\n",
       "  </tbody>\n",
       "</table>\n",
       "</div>"
      ],
      "text/plain": [
       "            month     weather      casual  registered       count   year_2019  \\\n",
       "count  219.000000  219.000000  219.000000  219.000000  219.000000  219.000000   \n",
       "mean     0.497717    0.187215    0.266372    0.527146    0.520592    0.479452   \n",
       "std      0.311080    0.269422    0.217246    0.217921    0.218435    0.500722   \n",
       "min      0.000000    0.000000    0.002133    0.059486    0.048205    0.000000   \n",
       "25%      0.272727    0.000000    0.101951    0.359154    0.377531    0.000000   \n",
       "50%      0.454545    0.000000    0.223712    0.526567    0.524275    0.000000   \n",
       "75%      0.727273    0.500000    0.362085    0.664742    0.672745    1.000000   \n",
       "max      1.000000    1.000000    1.038708    0.985273    0.963300    1.000000   \n",
       "\n",
       "       season_Summer  season_Fall  season_Winter  \n",
       "count     219.000000   219.000000     219.000000  \n",
       "mean        0.264840     0.246575       0.232877  \n",
       "std         0.442259     0.432005       0.423633  \n",
       "min         0.000000     0.000000       0.000000  \n",
       "25%         0.000000     0.000000       0.000000  \n",
       "50%         0.000000     0.000000       0.000000  \n",
       "75%         1.000000     0.000000       0.000000  \n",
       "max         1.000000     1.000000       1.000000  "
      ]
     },
     "execution_count": 494,
     "metadata": {},
     "output_type": "execute_result"
    }
   ],
   "source": [
    "df_test.describe()"
   ]
  },
  {
   "cell_type": "markdown",
   "id": "da408979-3c83-47d3-84fd-01cfe3fcaf4d",
   "metadata": {},
   "source": [
    "#### Dividing into X_test and y_test"
   ]
  },
  {
   "cell_type": "code",
   "execution_count": 495,
   "id": "cbf08d07-38aa-444e-90cc-53bc732f8e5b",
   "metadata": {},
   "outputs": [],
   "source": [
    "y_test = df_test.pop('count')\n",
    "X_test = df_test"
   ]
  },
  {
   "cell_type": "code",
   "execution_count": 496,
   "id": "21e588ec-e152-4f9a-9d2c-afda2fe66fcd",
   "metadata": {},
   "outputs": [
    {
     "data": {
      "text/plain": [
       "219"
      ]
     },
     "execution_count": 496,
     "metadata": {},
     "output_type": "execute_result"
    }
   ],
   "source": [
    "len(y_test)\n",
    "len(X_test)"
   ]
  },
  {
   "cell_type": "code",
   "execution_count": 497,
   "id": "3d42add3-c2cc-4884-9010-8436aaf182eb",
   "metadata": {},
   "outputs": [],
   "source": [
    "# Adding constant variable to test dataframe\n",
    "X_test_m4 = sm.add_constant(X_test)"
   ]
  },
  {
   "cell_type": "code",
   "execution_count": 498,
   "id": "4f1c37a8-ea3e-49ae-a067-7dc012d6c4c3",
   "metadata": {},
   "outputs": [
    {
     "data": {
      "text/plain": [
       "219"
      ]
     },
     "execution_count": 498,
     "metadata": {},
     "output_type": "execute_result"
    }
   ],
   "source": [
    "len(X_test_m4)"
   ]
  },
  {
   "cell_type": "code",
   "execution_count": 499,
   "id": "5edd34c6-78cd-43e7-8a3d-3c0f557c0d89",
   "metadata": {},
   "outputs": [],
   "source": [
    "# Creating X_test_m4 dataframe by dropping variables from X_test_m4\n",
    "#X_test_m4 = X_test_m4.drop([\"month\", \"holiday\", \"workingday\" ,'weather' ,'casual'], axis = 1)\n",
    "X_test_m4 = X_test_m4.drop(['year_2019' ,'season_Winter' ,\n",
    "                        'season_Fall' ,'season_Summer' ,'weekday'], axis=1)"
   ]
  },
  {
   "cell_type": "code",
   "execution_count": 500,
   "id": "05164f98-5c85-49a7-aeff-ccf0f95dc707",
   "metadata": {},
   "outputs": [
    {
     "data": {
      "text/plain": [
       "219"
      ]
     },
     "execution_count": 500,
     "metadata": {},
     "output_type": "execute_result"
    }
   ],
   "source": [
    "len(X_test_m4)"
   ]
  },
  {
   "cell_type": "markdown",
   "id": "8b28bf4d-56df-4461-bc8c-cb62a07f8eb5",
   "metadata": {},
   "source": [
    "from sklearn.linear_model import LinearRegression\n",
    "import numpy as np\n",
    "\n",
    "# Create some sample data\n",
    "X = np.array([[1], [2], [3], [4], [5]])\n",
    "y = np.array([2, 4, 6, 8, 10])\n",
    "\n",
    "# Create a linear regression model and fit the data\n",
    "model = LinearRegression()\n",
    "model.fit(X, y)\n",
    "\n",
    "# Predict the output for a new input\n",
    "X_new = np.array([[6]])\n",
    "y_new = model.predict(X_new)\n",
    "\n",
    "print(y_new)"
   ]
  },
  {
   "cell_type": "code",
   "execution_count": 517,
   "id": "b7ca7d52-63f3-4a14-9226-9a14d96db269",
   "metadata": {},
   "outputs": [
    {
     "data": {
      "text/plain": [
       "219"
      ]
     },
     "execution_count": 517,
     "metadata": {},
     "output_type": "execute_result"
    }
   ],
   "source": [
    "from sklearn.linear_model import LinearRegression\n",
    "model = LinearRegression()\n",
    "model.fit(X_test_m4, y_test)\n",
    "y_pred_m4 = model.predict(X_test_m4)\n",
    "len(y_pred_m4)"
   ]
  },
  {
   "cell_type": "markdown",
   "id": "821a85bc-d421-4162-844b-ebfaeb4c9e0e",
   "metadata": {},
   "source": [
    "## Model Evaluation\n",
    "\n",
    "Let's now plot the graph for actual versus predicted values."
   ]
  },
  {
   "cell_type": "code",
   "execution_count": 516,
   "id": "95cd7d3a-eb27-4af3-95df-a79b54515476",
   "metadata": {},
   "outputs": [
    {
     "data": {
      "text/plain": [
       "Text(0, 0.5, 'y_pred')"
      ]
     },
     "execution_count": 516,
     "metadata": {},
     "output_type": "execute_result"
    },
    {
     "data": {
      "image/png": "[encoded data removed]",
      "text/plain": [
       "<Figure size 640x480 with 1 Axes>"
      ]
     },
     "metadata": {},
     "output_type": "display_data"
    }
   ],
   "source": [
    "# Plotting y_test and y_pred to understand the spread\n",
    "\n",
    "fig = plt.figure()\n",
    "plt.scatter(y_test, y_new)\n",
    "fig.suptitle('y_test vs y_pred', fontsize = 20)              # Plot heading \n",
    "plt.xlabel('y_test', fontsize = 18)                          # X-label\n",
    "plt.ylabel('y_pred', fontsize = 16)  "
   ]
  },
  {
   "cell_type": "code",
   "execution_count": 519,
   "id": "4bf5874f-e3c1-42ae-9ce6-edfd136f43e7",
   "metadata": {},
   "outputs": [
    {
     "data": {
      "text/plain": [
       "1.0"
      ]
     },
     "execution_count": 519,
     "metadata": {},
     "output_type": "execute_result"
    }
   ],
   "source": [
    "from sklearn.metrics import r2_score\n",
    "r2_score(y_test, y_pred_m4)"
   ]
  },
  {
   "cell_type": "code",
   "execution_count": null,
   "id": "131ecfe3-09c0-47c8-87ea-d9f45ba490f5",
   "metadata": {},
   "outputs": [],
   "source": []
  }
 ],
 "metadata": {
  "kernelspec": {
   "display_name": "Python 3 (ipykernel)",
   "language": "python",
   "name": "python3"
  },
  "language_info": {
   "codemirror_mode": {
    "name": "ipython",
    "version": 3
   },
   "file_extension": ".py",
   "mimetype": "text/x-python",
   "name": "python",
   "nbconvert_exporter": "python",
   "pygments_lexer": "ipython3",
   "version": "3.10.9"
  }
 },
 "nbformat": 4,
 "nbformat_minor": 5
}
